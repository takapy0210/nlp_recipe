{
 "cells": [
  {
   "cell_type": "code",
   "execution_count": 13,
   "id": "loaded-daughter",
   "metadata": {},
   "outputs": [],
   "source": [
    "import sys\n",
    "import os\n",
    "import re\n",
    "import string\n",
    "import time\n",
    "import math\n",
    "import psutil\n",
    "import warnings\n",
    "from contextlib import contextmanager\n",
    "\n",
    "import pandas as pd\n",
    "from sklearn.model_selection import train_test_split\n",
    "from sklearn.feature_extraction.text import CountVectorizer\n",
    "from sklearn.linear_model import LogisticRegression\n",
    "from sklearn.metrics import accuracy_score\n",
    "from tqdm.notebook import tqdm as tqdm\n",
    "\n",
    "sys.path.append('../../')\n",
    "from tokenize_ja import tokenizer"
   ]
  },
  {
   "cell_type": "code",
   "execution_count": 14,
   "id": "sporting-tonight",
   "metadata": {},
   "outputs": [
    {
     "name": "stdout",
     "output_type": "stream",
     "text": [
      "The autoreload extension is already loaded. To reload it, use:\n",
      "  %reload_ext autoreload\n"
     ]
    }
   ],
   "source": [
    "%load_ext autoreload\n",
    "%autoreload 2\n",
    "tqdm.pandas()\n",
    "warnings.filterwarnings(\"ignore\")\n",
    "pd.set_option('display.max_columns', 500)\n",
    "pd.set_option('display.max_rows', 300)\n",
    "pd.set_option('display.max_colwidth', 600)\n",
    "pd.options.display.float_format = '{:.5f}'.format"
   ]
  },
  {
   "cell_type": "code",
   "execution_count": 15,
   "id": "unauthorized-poker",
   "metadata": {},
   "outputs": [],
   "source": [
    "def clean_hashtag(text: str) -> str:\n",
    "    \"\"\"ハッシュタグを除外する\n",
    "    Args:\n",
    "        text (str): [description]\n",
    "    Returns:\n",
    "        str: [description]\n",
    "    \"\"\"\n",
    "    text = re.sub(r'( #[a-zA-Z]+)+$', '', text)\n",
    "    text = re.sub(r' #([a-zA-Z]+) ', r'\\1', text)\n",
    "    return text"
   ]
  },
  {
   "cell_type": "code",
   "execution_count": 16,
   "id": "headed-converter",
   "metadata": {},
   "outputs": [],
   "source": [
    "text = '機械学習やるならpythonがいいよね。 #jupyter #pycon #scipy'"
   ]
  },
  {
   "cell_type": "code",
   "execution_count": 17,
   "id": "opposite-color",
   "metadata": {},
   "outputs": [
    {
     "data": {
      "text/plain": [
       "'機械学習やるならpythonがいいよね。'"
      ]
     },
     "execution_count": 17,
     "metadata": {},
     "output_type": "execute_result"
    }
   ],
   "source": [
    "clean_hashtag(text)"
   ]
  },
  {
   "cell_type": "code",
   "execution_count": 19,
   "id": "biblical-planet",
   "metadata": {},
   "outputs": [
    {
     "name": "stdout",
     "output_type": "stream",
     "text": [
      "Set the default dictionary to `sudachidict_full`.\n"
     ]
    }
   ],
   "source": [
    "! sudachipy link -t full"
   ]
  },
  {
   "cell_type": "code",
   "execution_count": 20,
   "id": "statewide-indie",
   "metadata": {},
   "outputs": [],
   "source": [
    "sudachi = tokenizer.SudachiTokenizer(mode=\"A\")"
   ]
  },
  {
   "cell_type": "code",
   "execution_count": 3,
   "id": "public-legend",
   "metadata": {},
   "outputs": [],
   "source": [
    "@contextmanager\n",
    "def trace(title):\n",
    "    t0 = time.time()\n",
    "    p = psutil.Process(os.getpid())\n",
    "    m0 = p.memory_info()[0] / 2. ** 30\n",
    "    yield\n",
    "    m1 = p.memory_info()[0] / 2. ** 30\n",
    "    delta = m1 - m0\n",
    "    sign = '+' if delta >= 0 else '-'\n",
    "    delta = math.fabs(delta)\n",
    "    print(f\"[{m1:.1f}GB({sign}{delta:.1f}GB):{time.time() - t0:.1f}sec] {title} \", file=sys.stderr)"
   ]
  },
  {
   "cell_type": "code",
   "execution_count": 33,
   "id": "arbitrary-sunrise",
   "metadata": {},
   "outputs": [],
   "source": [
    "def load_dataset(filename, n=5000, state=6):\n",
    "\n",
    "    def filter_by_ascii_rate(text, threshold=0.9):\n",
    "        ascii_letters = set(string.printable)\n",
    "        rate = sum(c in ascii_letters for c in text) / len(text)\n",
    "        return rate <= threshold\n",
    "\n",
    "    df = pd.read_csv(filename, sep='\\t')\n",
    "\n",
    "    # extracts Japanese texts.\n",
    "    is_jp = df.review_body.apply(filter_by_ascii_rate)\n",
    "    df = df[is_jp]\n",
    "\n",
    "    # sampling.\n",
    "    df = df.sample(frac=1, random_state=state)  # shuffle\n",
    "    grouped = df.groupby('star_rating')\n",
    "    df = grouped.head(n=n)\n",
    "    return pd.DataFrame(df).reset_index(drop='True')\n",
    "\n",
    "\n",
    "def train_and_eval(x_train, y_train, x_test, y_test):\n",
    "    vectorizer = CountVectorizer()\n",
    "    x_train_vec = vectorizer.fit_transform(x_train)\n",
    "    x_test_vec = vectorizer.transform(x_test)\n",
    "    clf = LogisticRegression(solver='liblinear')\n",
    "    clf.fit(x_train_vec, y_train)\n",
    "    y_pred = clf.predict(x_test_vec)\n",
    "    score = accuracy_score(y_test, y_pred)\n",
    "    print('{:.4f}'.format(score))"
   ]
  },
  {
   "cell_type": "code",
   "execution_count": 34,
   "id": "ahead-nudist",
   "metadata": {},
   "outputs": [
    {
     "name": "stderr",
     "output_type": "stream",
     "text": [
      "[1.6GB(+0.0GB):12.2sec] load data \n"
     ]
    }
   ],
   "source": [
    "with trace('load data'):\n",
    "    df = load_dataset('data/amazon_reviews_multilingual_JP_v1_00.tsv', n=1000)"
   ]
  },
  {
   "cell_type": "code",
   "execution_count": 35,
   "id": "opening-signal",
   "metadata": {},
   "outputs": [
    {
     "data": {
      "text/html": [
       "<div>\n",
       "<style scoped>\n",
       "    .dataframe tbody tr th:only-of-type {\n",
       "        vertical-align: middle;\n",
       "    }\n",
       "\n",
       "    .dataframe tbody tr th {\n",
       "        vertical-align: top;\n",
       "    }\n",
       "\n",
       "    .dataframe thead th {\n",
       "        text-align: right;\n",
       "    }\n",
       "</style>\n",
       "<table border=\"1\" class=\"dataframe\">\n",
       "  <thead>\n",
       "    <tr style=\"text-align: right;\">\n",
       "      <th></th>\n",
       "      <th>marketplace</th>\n",
       "      <th>customer_id</th>\n",
       "      <th>review_id</th>\n",
       "      <th>product_id</th>\n",
       "      <th>product_parent</th>\n",
       "      <th>product_title</th>\n",
       "      <th>product_category</th>\n",
       "      <th>star_rating</th>\n",
       "      <th>helpful_votes</th>\n",
       "      <th>total_votes</th>\n",
       "      <th>vine</th>\n",
       "      <th>verified_purchase</th>\n",
       "      <th>review_headline</th>\n",
       "      <th>review_body</th>\n",
       "      <th>review_date</th>\n",
       "    </tr>\n",
       "  </thead>\n",
       "  <tbody>\n",
       "    <tr>\n",
       "      <th>0</th>\n",
       "      <td>JP</td>\n",
       "      <td>36009604</td>\n",
       "      <td>RIEXG3Q0NCO1N</td>\n",
       "      <td>B00005LMCL</td>\n",
       "      <td>49084163</td>\n",
       "      <td>エリン・ブロコビッチ [DVD]</td>\n",
       "      <td>Video DVD</td>\n",
       "      <td>5</td>\n",
       "      <td>1</td>\n",
       "      <td>1</td>\n",
       "      <td>N</td>\n",
       "      <td>Y</td>\n",
       "      <td>勝気な女性の</td>\n",
       "      <td>勝気な女性の、しかし、勝気な我侭な・・・じゃなくて、必死になれる献身さが反面にある。ほんとに、人間らしい女性のサクセスストーリーなんだけど、利他的な努力のできる素敵な人格の物語・・・と言うより、実話だそうです。実際、ジュリア・ロバーツだからできた映画かもしれません。</td>\n",
       "      <td>2013-08-13</td>\n",
       "    </tr>\n",
       "    <tr>\n",
       "      <th>1</th>\n",
       "      <td>JP</td>\n",
       "      <td>9801356</td>\n",
       "      <td>R2MFOSGN7O7V1V</td>\n",
       "      <td>B00BKTFABE</td>\n",
       "      <td>355356902</td>\n",
       "      <td>KindleのビデオカメラHD（ハードタブレット版）</td>\n",
       "      <td>Mobile_Apps</td>\n",
       "      <td>1</td>\n",
       "      <td>3</td>\n",
       "      <td>6</td>\n",
       "      <td>N</td>\n",
       "      <td>Y</td>\n",
       "      <td>クソ　最悪</td>\n",
       "      <td>裏切られました！ビデオ撮影ができなくなりアプリ停止&lt;br /&gt;笑えてくる位ゴミ</td>\n",
       "      <td>2013-09-28</td>\n",
       "    </tr>\n",
       "    <tr>\n",
       "      <th>2</th>\n",
       "      <td>JP</td>\n",
       "      <td>48706054</td>\n",
       "      <td>R1WR5E7LXQFDVZ</td>\n",
       "      <td>B000025078</td>\n",
       "      <td>923583947</td>\n",
       "      <td>A Momentary Lapse of Reason</td>\n",
       "      <td>Music</td>\n",
       "      <td>5</td>\n",
       "      <td>9</td>\n",
       "      <td>11</td>\n",
       "      <td>N</td>\n",
       "      <td>N</td>\n",
       "      <td>デイヴギルモアズピンクフロイドの第１作・・・世界的に売れるだけのクォリティ！！</td>\n",
       "      <td>１９８７年リリースの新生ピンクフロイドの第１作・・・デイヴギルモアズピンクフロイドという形容がピッタリのアルバムで、内容は素晴らしく個人的には大好きです。基本的にはデイヴとプロデューサー・ボブエズリンが仕上げたものと言えます・・・ニックメイソンも完全に復帰しておらず（ドラムが叩けない・・・笑）、リチャードライトもサポート程度の扱いになっています。豪華ミュージシャンが参加しており、トニーレビン（Ｂ・Ｓｔｉｃｋ）・ジムケルトナー（Ｄｒ）・カーマインアピス（Ｄｒ）・マイケルランドゥ（Ｇ）・トムスコット（Ｓａｘ）等と錚々たる面子です・・・金かかってます（笑）！！ジャケットも合成ではなく実際ベッドを並べたとか・・・ストームソーガソンの仕事は本当スケールがでかい。４曲目「ＯＮＥＳＬＩＰ」はデイヴとフィルマンザネラとの共作で最高にかっこいい・・・トニーレビンが大活躍の曲！！５曲目「オンザターニングザウェイ」はデイヴの泣きのギターが炸裂する曲で名演です！！この時期の来日公演を体験しましたが、本当凄いバンドでした・・・とてつもないエネルギーを誇るロックバンド！！必聴！！！！！</td>\n",
       "      <td>2002-03-15</td>\n",
       "    </tr>\n",
       "    <tr>\n",
       "      <th>3</th>\n",
       "      <td>JP</td>\n",
       "      <td>26935613</td>\n",
       "      <td>R3C2EZ5WGPEI9U</td>\n",
       "      <td>B00IM0PZKK</td>\n",
       "      <td>126004443</td>\n",
       "      <td>ゼロ・グラビティ 3D &amp; 2D ブルーレイセット(初回限定生産)2枚組 [Blu-ray]</td>\n",
       "      <td>Video DVD</td>\n",
       "      <td>5</td>\n",
       "      <td>4</td>\n",
       "      <td>12</td>\n",
       "      <td>N</td>\n",
       "      <td>Y</td>\n",
       "      <td>こんな映画</td>\n",
       "      <td>見たことない。&lt;br /&gt;ヘッドマウントディスプレイで見たのですが 息ができなくなりました。</td>\n",
       "      <td>2014-05-06</td>\n",
       "    </tr>\n",
       "    <tr>\n",
       "      <th>4</th>\n",
       "      <td>JP</td>\n",
       "      <td>28401471</td>\n",
       "      <td>R1WQCGH6NOCEOE</td>\n",
       "      <td>B002UD56HW</td>\n",
       "      <td>956054538</td>\n",
       "      <td>Michael Jackson's This Is It [UMD] [Import]</td>\n",
       "      <td>Video DVD</td>\n",
       "      <td>4</td>\n",
       "      <td>2</td>\n",
       "      <td>4</td>\n",
       "      <td>N</td>\n",
       "      <td>Y</td>\n",
       "      <td>作品は最高!…だが</td>\n",
       "      <td>日本のPSPに対応してないので&lt;br /&gt;コレクションアイテムになりましたw&lt;br /&gt;&lt;br /&gt;けど、コレクターとしては&lt;br /&gt;いい品です(*'▽`)♪&lt;br /&gt;メモリアルDVDBOXを購入してたので&lt;br /&gt;今回の買い物は問題なしです♪</td>\n",
       "      <td>2010-01-26</td>\n",
       "    </tr>\n",
       "  </tbody>\n",
       "</table>\n",
       "</div>"
      ],
      "text/plain": [
       "  marketplace  customer_id       review_id  product_id  product_parent  \\\n",
       "0          JP     36009604   RIEXG3Q0NCO1N  B00005LMCL        49084163   \n",
       "1          JP      9801356  R2MFOSGN7O7V1V  B00BKTFABE       355356902   \n",
       "2          JP     48706054  R1WR5E7LXQFDVZ  B000025078       923583947   \n",
       "3          JP     26935613  R3C2EZ5WGPEI9U  B00IM0PZKK       126004443   \n",
       "4          JP     28401471  R1WQCGH6NOCEOE  B002UD56HW       956054538   \n",
       "\n",
       "                                    product_title product_category  \\\n",
       "0                                エリン・ブロコビッチ [DVD]        Video DVD   \n",
       "1                      KindleのビデオカメラHD（ハードタブレット版）      Mobile_Apps   \n",
       "2                     A Momentary Lapse of Reason            Music   \n",
       "3  ゼロ・グラビティ 3D & 2D ブルーレイセット(初回限定生産)2枚組 [Blu-ray]        Video DVD   \n",
       "4     Michael Jackson's This Is It [UMD] [Import]        Video DVD   \n",
       "\n",
       "   star_rating  helpful_votes  total_votes vine verified_purchase  \\\n",
       "0            5              1            1    N                 Y   \n",
       "1            1              3            6    N                 Y   \n",
       "2            5              9           11    N                 N   \n",
       "3            5              4           12    N                 Y   \n",
       "4            4              2            4    N                 Y   \n",
       "\n",
       "                           review_headline  \\\n",
       "0                                   勝気な女性の   \n",
       "1                                    クソ　最悪   \n",
       "2  デイヴギルモアズピンクフロイドの第１作・・・世界的に売れるだけのクォリティ！！   \n",
       "3                                    こんな映画   \n",
       "4                                作品は最高!…だが   \n",
       "\n",
       "                                                                                                                                                                                                                                                                                                                                                                                                                                                                                              review_body  \\\n",
       "0                                                                                                                                                                                                                                                                                                                                                                   勝気な女性の、しかし、勝気な我侭な・・・じゃなくて、必死になれる献身さが反面にある。ほんとに、人間らしい女性のサクセスストーリーなんだけど、利他的な努力のできる素敵な人格の物語・・・と言うより、実話だそうです。実際、ジュリア・ロバーツだからできた映画かもしれません。   \n",
       "1                                                                                                                                                                                                                                                                                                                                                                                                                                                                 裏切られました！ビデオ撮影ができなくなりアプリ停止<br />笑えてくる位ゴミ   \n",
       "2  １９８７年リリースの新生ピンクフロイドの第１作・・・デイヴギルモアズピンクフロイドという形容がピッタリのアルバムで、内容は素晴らしく個人的には大好きです。基本的にはデイヴとプロデューサー・ボブエズリンが仕上げたものと言えます・・・ニックメイソンも完全に復帰しておらず（ドラムが叩けない・・・笑）、リチャードライトもサポート程度の扱いになっています。豪華ミュージシャンが参加しており、トニーレビン（Ｂ・Ｓｔｉｃｋ）・ジムケルトナー（Ｄｒ）・カーマインアピス（Ｄｒ）・マイケルランドゥ（Ｇ）・トムスコット（Ｓａｘ）等と錚々たる面子です・・・金かかってます（笑）！！ジャケットも合成ではなく実際ベッドを並べたとか・・・ストームソーガソンの仕事は本当スケールがでかい。４曲目「ＯＮＥＳＬＩＰ」はデイヴとフィルマンザネラとの共作で最高にかっこいい・・・トニーレビンが大活躍の曲！！５曲目「オンザターニングザウェイ」はデイヴの泣きのギターが炸裂する曲で名演です！！この時期の来日公演を体験しましたが、本当凄いバンドでした・・・とてつもないエネルギーを誇るロックバンド！！必聴！！！！！   \n",
       "3                                                                                                                                                                                                                                                                                                                                                                                                                                                          見たことない。<br />ヘッドマウントディスプレイで見たのですが 息ができなくなりました。   \n",
       "4                                                                                                                                                                                                                                                                                                                                                                           日本のPSPに対応してないので<br />コレクションアイテムになりましたw<br /><br />けど、コレクターとしては<br />いい品です(*'▽`)♪<br />メモリアルDVDBOXを購入してたので<br />今回の買い物は問題なしです♪   \n",
       "\n",
       "  review_date  \n",
       "0  2013-08-13  \n",
       "1  2013-09-28  \n",
       "2  2002-03-15  \n",
       "3  2014-05-06  \n",
       "4  2010-01-26  "
      ]
     },
     "execution_count": 35,
     "metadata": {},
     "output_type": "execute_result"
    }
   ],
   "source": [
    "df.head()"
   ]
  },
  {
   "cell_type": "code",
   "execution_count": 36,
   "id": "external-scenario",
   "metadata": {},
   "outputs": [
    {
     "data": {
      "text/plain": [
       "(5000, 15)"
      ]
     },
     "execution_count": 36,
     "metadata": {},
     "output_type": "execute_result"
    }
   ],
   "source": [
    "df.shape"
   ]
  },
  {
   "cell_type": "code",
   "execution_count": 37,
   "id": "invalid-complement",
   "metadata": {},
   "outputs": [],
   "source": [
    "# 特殊な文字列が入っているレビューを除外\n",
    "df = df[~df['review_body'].str.contains('ã')].reset_index(drop=True)"
   ]
  },
  {
   "cell_type": "code",
   "execution_count": 38,
   "id": "adjusted-second",
   "metadata": {},
   "outputs": [
    {
     "data": {
      "text/plain": [
       "(4995, 15)"
      ]
     },
     "execution_count": 38,
     "metadata": {},
     "output_type": "execute_result"
    }
   ],
   "source": [
    "df.shape"
   ]
  },
  {
   "cell_type": "code",
   "execution_count": 39,
   "id": "formed-telescope",
   "metadata": {},
   "outputs": [],
   "source": [
    "X = df[['review_body']]\n",
    "y = df[['star_rating']]"
   ]
  },
  {
   "cell_type": "code",
   "execution_count": 40,
   "id": "independent-stations",
   "metadata": {},
   "outputs": [
    {
     "data": {
      "text/html": [
       "<div>\n",
       "<style scoped>\n",
       "    .dataframe tbody tr th:only-of-type {\n",
       "        vertical-align: middle;\n",
       "    }\n",
       "\n",
       "    .dataframe tbody tr th {\n",
       "        vertical-align: top;\n",
       "    }\n",
       "\n",
       "    .dataframe thead th {\n",
       "        text-align: right;\n",
       "    }\n",
       "</style>\n",
       "<table border=\"1\" class=\"dataframe\">\n",
       "  <thead>\n",
       "    <tr style=\"text-align: right;\">\n",
       "      <th></th>\n",
       "      <th>review_body</th>\n",
       "    </tr>\n",
       "  </thead>\n",
       "  <tbody>\n",
       "    <tr>\n",
       "      <th>0</th>\n",
       "      <td>勝気な女性の、しかし、勝気な我侭な・・・じゃなくて、必死になれる献身さが反面にある。ほんとに、人間らしい女性のサクセスストーリーなんだけど、利他的な努力のできる素敵な人格の物語・・・と言うより、実話だそうです。実際、ジュリア・ロバーツだからできた映画かもしれません。</td>\n",
       "    </tr>\n",
       "    <tr>\n",
       "      <th>1</th>\n",
       "      <td>裏切られました！ビデオ撮影ができなくなりアプリ停止&lt;br /&gt;笑えてくる位ゴミ</td>\n",
       "    </tr>\n",
       "    <tr>\n",
       "      <th>2</th>\n",
       "      <td>１９８７年リリースの新生ピンクフロイドの第１作・・・デイヴギルモアズピンクフロイドという形容がピッタリのアルバムで、内容は素晴らしく個人的には大好きです。基本的にはデイヴとプロデューサー・ボブエズリンが仕上げたものと言えます・・・ニックメイソンも完全に復帰しておらず（ドラムが叩けない・・・笑）、リチャードライトもサポート程度の扱いになっています。豪華ミュージシャンが参加しており、トニーレビン（Ｂ・Ｓｔｉｃｋ）・ジムケルトナー（Ｄｒ）・カーマインアピス（Ｄｒ）・マイケルランドゥ（Ｇ）・トムスコット（Ｓａｘ）等と錚々たる面子です・・・金かかってます（笑）！！ジャケットも合成ではなく実際ベッドを並べたとか・・・ストームソーガソンの仕事は本当スケールがでかい。４曲目「ＯＮＥＳＬＩＰ」はデイヴとフィルマンザネラとの共作で最高にかっこいい・・・トニーレビンが大活躍の曲！！５曲目「オンザターニングザウェイ」はデイヴの泣きのギターが炸裂する曲で名演です！！この時期の来日公演を体験しましたが、本当凄いバンドでした・・・とてつもないエネルギーを誇るロックバンド！！必聴！！！！！</td>\n",
       "    </tr>\n",
       "    <tr>\n",
       "      <th>3</th>\n",
       "      <td>見たことない。&lt;br /&gt;ヘッドマウントディスプレイで見たのですが 息ができなくなりました。</td>\n",
       "    </tr>\n",
       "    <tr>\n",
       "      <th>4</th>\n",
       "      <td>日本のPSPに対応してないので&lt;br /&gt;コレクションアイテムになりましたw&lt;br /&gt;&lt;br /&gt;けど、コレクターとしては&lt;br /&gt;いい品です(*'▽`)♪&lt;br /&gt;メモリアルDVDBOXを購入してたので&lt;br /&gt;今回の買い物は問題なしです♪</td>\n",
       "    </tr>\n",
       "    <tr>\n",
       "      <th>...</th>\n",
       "      <td>...</td>\n",
       "    </tr>\n",
       "    <tr>\n",
       "      <th>4990</th>\n",
       "      <td>デビュー以来のリアルタイムのリスナーですが、一番嫌いな時期に戻っちった、が素直な感想。そうメタル・ジャスティスだよ。カークのソロもそっくりだし。曲構成のバラバラなとこも。前作は評価されてない程嫌いじゃないけど、これは嫌。けど、メタル・ジャスティスの後にブラックアルバムが出たことに期待を込めて。次は</td>\n",
       "    </tr>\n",
       "    <tr>\n",
       "      <th>4991</th>\n",
       "      <td>冒頭の戦闘シーンは、さすがリドリー・スコット。緊張感に包まれた戦士の鼓動や戦場の匂いまでが伝わってくるような迫力。それにしても、この監督は登場人物が濡れる状況が好きだなあ。戦闘が終わると、脚本の瑕疵が気になりだしてしかたがなかった。反逆罪で殺されそうになった将軍が簡単に逃げられたのはなぜか？　必死で家に戻った将軍よりも家族が虐殺されたのが先なのはなぜか？　奴隷となったいろいろな民族が自由にコミュニケーションできたのは何語で会話していたのか？　数え出すときりがないくらいに疑問が多い。頭の中に浮かぶクエスチョンマークをより分けながら観ていたが、同様にローマ時代を描いた『ベンハー』には遠く及ばない駄作ではないか。どうしちゃったんだリドリー・スコット。</td>\n",
       "    </tr>\n",
       "    <tr>\n",
       "      <th>4992</th>\n",
       "      <td>なんて内容がないんだ。&lt;br /&gt;&lt;br /&gt;楽しい絵本のような感じでしょうか。&lt;br /&gt;&lt;br /&gt;「みんなでうちに帰ろう〜」みたいなＣＭコピーでしたが、帰りませんから。&lt;br /&gt;&lt;br /&gt;頑張って帰るのかと思いきや、全然違うオチです。&lt;br /&gt;&lt;br /&gt;びっくりします。&lt;br /&gt;&lt;br /&gt;ＣＧ映画はおもしろいと思っていましたが、考え直しが必要です。</td>\n",
       "    </tr>\n",
       "    <tr>\n",
       "      <th>4993</th>\n",
       "      <td>つまらなかった。アギレラは好きだし、アギレラのPVも好きだが、映画として余りにもお粗末な内容だ。ストーリーも陳腐だし、アギレラの演技もセリフ棒読みで見ちゃいられない。やっぱりアギレラはミュージシャンであり、女優では無い、というのを実感させられる作品。歌のシーンも、妙にリアリティだしちゃって、PVのような迫力も無し。カメラワークも退屈だし、撮影監督誰だ?て感じ。アギレラにとっては、キャリアの汚点と言える作品では無いでしょうか。アギレラのファンは喜んで見るだろうけど。ミュージシャンものの映画って大体こんなんよね。期待が大きかっただけにガッカリな内容でした。&lt;br /&gt;アギレラとシェールのギャラ高すぎて制作費に金を掛けられなかったか?</td>\n",
       "    </tr>\n",
       "    <tr>\n",
       "      <th>4994</th>\n",
       "      <td>軒並好評価みたいですが、私にはいまいちピンと来るものがありませんでした。&lt;br /&gt;&lt;br /&gt;男女の駆引きや社交辞令的な言葉の綾を題材に恋愛バイブルみたいなノリなんですが、&lt;br /&gt;登場カップル数が多くて散漫になってしまっている印象を受けました。&lt;br /&gt;もうちょっとじっくり焦点を当てて観せてもいいのではと思いました。&lt;br /&gt;&lt;br /&gt;キャストもかなり豪華なんですが、形式故か各人浅く中途半端な出演の様な気がします。&lt;br /&gt;コミカル調で描かれてるので無理も無いですが、心に響くような類いではありません。</td>\n",
       "    </tr>\n",
       "  </tbody>\n",
       "</table>\n",
       "<p>4995 rows × 1 columns</p>\n",
       "</div>"
      ],
      "text/plain": [
       "                                                                                                                                                                                                                                                                                                                                                                                                                                                                                                 review_body\n",
       "0                                                                                                                                                                                                                                                                                                                                                                      勝気な女性の、しかし、勝気な我侭な・・・じゃなくて、必死になれる献身さが反面にある。ほんとに、人間らしい女性のサクセスストーリーなんだけど、利他的な努力のできる素敵な人格の物語・・・と言うより、実話だそうです。実際、ジュリア・ロバーツだからできた映画かもしれません。\n",
       "1                                                                                                                                                                                                                                                                                                                                                                                                                                                                    裏切られました！ビデオ撮影ができなくなりアプリ停止<br />笑えてくる位ゴミ\n",
       "2     １９８７年リリースの新生ピンクフロイドの第１作・・・デイヴギルモアズピンクフロイドという形容がピッタリのアルバムで、内容は素晴らしく個人的には大好きです。基本的にはデイヴとプロデューサー・ボブエズリンが仕上げたものと言えます・・・ニックメイソンも完全に復帰しておらず（ドラムが叩けない・・・笑）、リチャードライトもサポート程度の扱いになっています。豪華ミュージシャンが参加しており、トニーレビン（Ｂ・Ｓｔｉｃｋ）・ジムケルトナー（Ｄｒ）・カーマインアピス（Ｄｒ）・マイケルランドゥ（Ｇ）・トムスコット（Ｓａｘ）等と錚々たる面子です・・・金かかってます（笑）！！ジャケットも合成ではなく実際ベッドを並べたとか・・・ストームソーガソンの仕事は本当スケールがでかい。４曲目「ＯＮＥＳＬＩＰ」はデイヴとフィルマンザネラとの共作で最高にかっこいい・・・トニーレビンが大活躍の曲！！５曲目「オンザターニングザウェイ」はデイヴの泣きのギターが炸裂する曲で名演です！！この時期の来日公演を体験しましたが、本当凄いバンドでした・・・とてつもないエネルギーを誇るロックバンド！！必聴！！！！！\n",
       "3                                                                                                                                                                                                                                                                                                                                                                                                                                                             見たことない。<br />ヘッドマウントディスプレイで見たのですが 息ができなくなりました。\n",
       "4                                                                                                                                                                                                                                                                                                                                                                              日本のPSPに対応してないので<br />コレクションアイテムになりましたw<br /><br />けど、コレクターとしては<br />いい品です(*'▽`)♪<br />メモリアルDVDBOXを購入してたので<br />今回の買い物は問題なしです♪\n",
       "...                                                                                                                                                                                                                                                                                                                                                                                                                                                                                                      ...\n",
       "4990                                                                                                                                                                                                                                                                                                                                                   デビュー以来のリアルタイムのリスナーですが、一番嫌いな時期に戻っちった、が素直な感想。そうメタル・ジャスティスだよ。カークのソロもそっくりだし。曲構成のバラバラなとこも。前作は評価されてない程嫌いじゃないけど、これは嫌。けど、メタル・ジャスティスの後にブラックアルバムが出たことに期待を込めて。次は\n",
       "4991                                                                                                                                                                  冒頭の戦闘シーンは、さすがリドリー・スコット。緊張感に包まれた戦士の鼓動や戦場の匂いまでが伝わってくるような迫力。それにしても、この監督は登場人物が濡れる状況が好きだなあ。戦闘が終わると、脚本の瑕疵が気になりだしてしかたがなかった。反逆罪で殺されそうになった将軍が簡単に逃げられたのはなぜか？　必死で家に戻った将軍よりも家族が虐殺されたのが先なのはなぜか？　奴隷となったいろいろな民族が自由にコミュニケーションできたのは何語で会話していたのか？　数え出すときりがないくらいに疑問が多い。頭の中に浮かぶクエスチョンマークをより分けながら観ていたが、同様にローマ時代を描いた『ベンハー』には遠く及ばない駄作ではないか。どうしちゃったんだリドリー・スコット。\n",
       "4992                                                                                                                                                                                                                                                                                                                なんて内容がないんだ。<br /><br />楽しい絵本のような感じでしょうか。<br /><br />「みんなでうちに帰ろう〜」みたいなＣＭコピーでしたが、帰りませんから。<br /><br />頑張って帰るのかと思いきや、全然違うオチです。<br /><br />びっくりします。<br /><br />ＣＧ映画はおもしろいと思っていましたが、考え直しが必要です。\n",
       "4993                                                                                                                                                                          つまらなかった。アギレラは好きだし、アギレラのPVも好きだが、映画として余りにもお粗末な内容だ。ストーリーも陳腐だし、アギレラの演技もセリフ棒読みで見ちゃいられない。やっぱりアギレラはミュージシャンであり、女優では無い、というのを実感させられる作品。歌のシーンも、妙にリアリティだしちゃって、PVのような迫力も無し。カメラワークも退屈だし、撮影監督誰だ?て感じ。アギレラにとっては、キャリアの汚点と言える作品では無いでしょうか。アギレラのファンは喜んで見るだろうけど。ミュージシャンものの映画って大体こんなんよね。期待が大きかっただけにガッカリな内容でした。<br />アギレラとシェールのギャラ高すぎて制作費に金を掛けられなかったか?\n",
       "4994                                                                                                                                                                                                                                    軒並好評価みたいですが、私にはいまいちピンと来るものがありませんでした。<br /><br />男女の駆引きや社交辞令的な言葉の綾を題材に恋愛バイブルみたいなノリなんですが、<br />登場カップル数が多くて散漫になってしまっている印象を受けました。<br />もうちょっとじっくり焦点を当てて観せてもいいのではと思いました。<br /><br />キャストもかなり豪華なんですが、形式故か各人浅く中途半端な出演の様な気がします。<br />コミカル調で描かれてるので無理も無いですが、心に響くような類いではありません。\n",
       "\n",
       "[4995 rows x 1 columns]"
      ]
     },
     "execution_count": 40,
     "metadata": {},
     "output_type": "execute_result"
    }
   ],
   "source": [
    "X"
   ]
  },
  {
   "cell_type": "code",
   "execution_count": 41,
   "id": "thousand-poison",
   "metadata": {},
   "outputs": [
    {
     "data": {
      "text/html": [
       "<div>\n",
       "<style scoped>\n",
       "    .dataframe tbody tr th:only-of-type {\n",
       "        vertical-align: middle;\n",
       "    }\n",
       "\n",
       "    .dataframe tbody tr th {\n",
       "        vertical-align: top;\n",
       "    }\n",
       "\n",
       "    .dataframe thead th {\n",
       "        text-align: right;\n",
       "    }\n",
       "</style>\n",
       "<table border=\"1\" class=\"dataframe\">\n",
       "  <thead>\n",
       "    <tr style=\"text-align: right;\">\n",
       "      <th></th>\n",
       "      <th>star_rating</th>\n",
       "    </tr>\n",
       "  </thead>\n",
       "  <tbody>\n",
       "    <tr>\n",
       "      <th>0</th>\n",
       "      <td>5</td>\n",
       "    </tr>\n",
       "    <tr>\n",
       "      <th>1</th>\n",
       "      <td>1</td>\n",
       "    </tr>\n",
       "    <tr>\n",
       "      <th>2</th>\n",
       "      <td>5</td>\n",
       "    </tr>\n",
       "    <tr>\n",
       "      <th>3</th>\n",
       "      <td>5</td>\n",
       "    </tr>\n",
       "    <tr>\n",
       "      <th>4</th>\n",
       "      <td>4</td>\n",
       "    </tr>\n",
       "    <tr>\n",
       "      <th>...</th>\n",
       "      <td>...</td>\n",
       "    </tr>\n",
       "    <tr>\n",
       "      <th>4990</th>\n",
       "      <td>2</td>\n",
       "    </tr>\n",
       "    <tr>\n",
       "      <th>4991</th>\n",
       "      <td>2</td>\n",
       "    </tr>\n",
       "    <tr>\n",
       "      <th>4992</th>\n",
       "      <td>2</td>\n",
       "    </tr>\n",
       "    <tr>\n",
       "      <th>4993</th>\n",
       "      <td>2</td>\n",
       "    </tr>\n",
       "    <tr>\n",
       "      <th>4994</th>\n",
       "      <td>2</td>\n",
       "    </tr>\n",
       "  </tbody>\n",
       "</table>\n",
       "<p>4995 rows × 1 columns</p>\n",
       "</div>"
      ],
      "text/plain": [
       "      star_rating\n",
       "0               5\n",
       "1               1\n",
       "2               5\n",
       "3               5\n",
       "4               4\n",
       "...           ...\n",
       "4990            2\n",
       "4991            2\n",
       "4992            2\n",
       "4993            2\n",
       "4994            2\n",
       "\n",
       "[4995 rows x 1 columns]"
      ]
     },
     "execution_count": 41,
     "metadata": {},
     "output_type": "execute_result"
    }
   ],
   "source": [
    "y"
   ]
  },
  {
   "cell_type": "markdown",
   "id": "expensive-small",
   "metadata": {},
   "source": [
    "# tokenize"
   ]
  },
  {
   "cell_type": "code",
   "execution_count": 42,
   "id": "fossil-retail",
   "metadata": {},
   "outputs": [],
   "source": [
    "mecab_tokenizer = tokenizer.MeCabTokenizer(sys_dic_path='/usr/lib/x86_64-linux-gnu/mecab/dic/mecab-ipadic-neologd')"
   ]
  },
  {
   "cell_type": "code",
   "execution_count": 44,
   "id": "minute-metadata",
   "metadata": {},
   "outputs": [
    {
     "data": {
      "application/vnd.jupyter.widget-view+json": {
       "model_id": "3a6d7c653b0c43d0a19e4ed33fa838ff",
       "version_major": 2,
       "version_minor": 0
      },
      "text/plain": [
       "  0%|          | 0/4995 [00:00<?, ?it/s]"
      ]
     },
     "metadata": {},
     "output_type": "display_data"
    },
    {
     "name": "stderr",
     "output_type": "stream",
     "text": [
      "/usr/local/lib/python3.8/site-packages/pandas/core/indexing.py:1596: SettingWithCopyWarning: \n",
      "A value is trying to be set on a copy of a slice from a DataFrame.\n",
      "Try using .loc[row_indexer,col_indexer] = value instead\n",
      "\n",
      "See the caveats in the documentation: https://pandas.pydata.org/pandas-docs/stable/user_guide/indexing.html#returning-a-view-versus-a-copy\n",
      "  self.obj[key] = _infer_fill_value(value)\n",
      "/usr/local/lib/python3.8/site-packages/pandas/core/indexing.py:1743: SettingWithCopyWarning: \n",
      "A value is trying to be set on a copy of a slice from a DataFrame.\n",
      "Try using .loc[row_indexer,col_indexer] = value instead\n",
      "\n",
      "See the caveats in the documentation: https://pandas.pydata.org/pandas-docs/stable/user_guide/indexing.html#returning-a-view-versus-a-copy\n",
      "  isetter(ilocs[0], value)\n",
      "[2.1GB(+0.0GB):5.5sec] mecab tokenize \n"
     ]
    }
   ],
   "source": [
    "with trace(\"mecab tokenize\"):\n",
    "    X.loc[:, 'mecab_token'] = X['review_body'].progress_apply(mecab_tokenizer.tokenize)"
   ]
  },
  {
   "cell_type": "code",
   "execution_count": 45,
   "id": "editorial-optics",
   "metadata": {},
   "outputs": [
    {
     "data": {
      "text/html": [
       "<div>\n",
       "<style scoped>\n",
       "    .dataframe tbody tr th:only-of-type {\n",
       "        vertical-align: middle;\n",
       "    }\n",
       "\n",
       "    .dataframe tbody tr th {\n",
       "        vertical-align: top;\n",
       "    }\n",
       "\n",
       "    .dataframe thead th {\n",
       "        text-align: right;\n",
       "    }\n",
       "</style>\n",
       "<table border=\"1\" class=\"dataframe\">\n",
       "  <thead>\n",
       "    <tr style=\"text-align: right;\">\n",
       "      <th></th>\n",
       "      <th>review_body</th>\n",
       "      <th>mecab_token</th>\n",
       "    </tr>\n",
       "  </thead>\n",
       "  <tbody>\n",
       "    <tr>\n",
       "      <th>0</th>\n",
       "      <td>勝気な女性の、しかし、勝気な我侭な・・・じゃなくて、必死になれる献身さが反面にある。ほんとに、人間らしい女性のサクセスストーリーなんだけど、利他的な努力のできる素敵な人格の物語・・・と言うより、実話だそうです。実際、ジュリア・ロバーツだからできた映画かもしれません。</td>\n",
       "      <td>[勝気, 女性, 勝気, 我侭, じゃなくて, 必死, なれる, 献身, さ, 反面, ある, 人間らしい, 女性, サクセスストーリー, ん, 利他, 的, 努力, できる, 素敵, 人格, 物語, 言う, 実話, そう, ジュリア・ロバーツ, できる, 映画, しれる]</td>\n",
       "    </tr>\n",
       "    <tr>\n",
       "      <th>1</th>\n",
       "      <td>裏切られました！ビデオ撮影ができなくなりアプリ停止&lt;br /&gt;笑えてくる位ゴミ</td>\n",
       "      <td>[裏切る, れる, ビデオ撮影, できる, なる, アプリ, 停止, BR, 笑える, くる, 位, ゴミ]</td>\n",
       "    </tr>\n",
       "    <tr>\n",
       "      <th>2</th>\n",
       "      <td>１９８７年リリースの新生ピンクフロイドの第１作・・・デイヴギルモアズピンクフロイドという形容がピッタリのアルバムで、内容は素晴らしく個人的には大好きです。基本的にはデイヴとプロデューサー・ボブエズリンが仕上げたものと言えます・・・ニックメイソンも完全に復帰しておらず（ドラムが叩けない・・・笑）、リチャードライトもサポート程度の扱いになっています。豪華ミュージシャンが参加しており、トニーレビン（Ｂ・Ｓｔｉｃｋ）・ジムケルトナー（Ｄｒ）・カーマインアピス（Ｄｒ）・マイケルランドゥ（Ｇ）・トムスコット（Ｓａｘ）等と錚々たる面子です・・・金かかってます（笑）！！ジャケットも合成ではなく実際ベッドを並べたとか・・・ストームソーガソンの仕事は本当スケールがでかい。４曲目「ＯＮＥＳＬＩＰ」はデイヴとフィルマンザネラとの共作で最高にかっこいい・・・トニーレビンが大活躍の曲！！５曲目「オンザターニングザウェイ」はデイヴの泣きのギターが炸裂する曲で名演です！！この時期の来日公演を体験しましたが、本当凄いバンドでした・・・とてつもないエネルギーを誇るロックバンド！！必聴！！！！！</td>\n",
       "      <td>[1987年, リリース, 新生, PINK FLOYD, 1, 作, ・・デイヴギルモアズピンクフロイド, 形容, アルバム, 内容, 素晴らしい, 個人的, 大好き, 基本的, デイヴ, プロデューサー, ボブ・エズリン, 仕上げる, もの, 言える, ・・ニックメイソン, 完全, 復帰, する, おる, ドラム, 叩ける, 笑, リチャード・ライト, サポート, 程度, 扱い, なる, いる, 豪華, ミュージシャン, 参加, する, おる, Tony Levin, b, stick, ジム・ケルトナー, DR, カーマイン・アピス, DR, Michael Landau, g, トム・スコット, sax, 等, 錚々たる, 面子, 金, かかる, 笑, ジャケット, 合成, ベッド, 並べる, ストーム・ソーガソン, 仕事, 本当, スケール, でかい, 4曲, 目, oneslip, デイヴ, フィル・マンザネラ, 共作, 最高, かっこいい, Tony Levin, 活躍, 曲, 5曲, 目, オンザターニングザウェイ, デイヴ, 泣き, ギター, 炸裂, する, 曲, 名演, 時期, 来日公演, 体験, する, 本当, 凄い, バンド, 途轍, ない, エネルギー, 誇る, ロックバンド, 必聴]</td>\n",
       "    </tr>\n",
       "    <tr>\n",
       "      <th>3</th>\n",
       "      <td>見たことない。&lt;br /&gt;ヘッドマウントディスプレイで見たのですが 息ができなくなりました。</td>\n",
       "      <td>[見る, こと, ない, BR, ヘッドマウントディスプレイ, 見る, の, 息, できる, なる]</td>\n",
       "    </tr>\n",
       "    <tr>\n",
       "      <th>4</th>\n",
       "      <td>日本のPSPに対応してないので&lt;br /&gt;コレクションアイテムになりましたw&lt;br /&gt;&lt;br /&gt;けど、コレクターとしては&lt;br /&gt;いい品です(*'▽`)♪&lt;br /&gt;メモリアルDVDBOXを購入してたので&lt;br /&gt;今回の買い物は問題なしです♪</td>\n",
       "      <td>[日本, PSP, 対応, する, てる, BR, コレクション, アイテム, なる, w, BR, BR, コレクター, BR, いい, 品, BR, メモリアル, dvdbox, 購入, する, てる, BR, 今回, 買い物, 問題]</td>\n",
       "    </tr>\n",
       "  </tbody>\n",
       "</table>\n",
       "</div>"
      ],
      "text/plain": [
       "                                                                                                                                                                                                                                                                                                                                                                                                                                                                                              review_body  \\\n",
       "0                                                                                                                                                                                                                                                                                                                                                                   勝気な女性の、しかし、勝気な我侭な・・・じゃなくて、必死になれる献身さが反面にある。ほんとに、人間らしい女性のサクセスストーリーなんだけど、利他的な努力のできる素敵な人格の物語・・・と言うより、実話だそうです。実際、ジュリア・ロバーツだからできた映画かもしれません。   \n",
       "1                                                                                                                                                                                                                                                                                                                                                                                                                                                                 裏切られました！ビデオ撮影ができなくなりアプリ停止<br />笑えてくる位ゴミ   \n",
       "2  １９８７年リリースの新生ピンクフロイドの第１作・・・デイヴギルモアズピンクフロイドという形容がピッタリのアルバムで、内容は素晴らしく個人的には大好きです。基本的にはデイヴとプロデューサー・ボブエズリンが仕上げたものと言えます・・・ニックメイソンも完全に復帰しておらず（ドラムが叩けない・・・笑）、リチャードライトもサポート程度の扱いになっています。豪華ミュージシャンが参加しており、トニーレビン（Ｂ・Ｓｔｉｃｋ）・ジムケルトナー（Ｄｒ）・カーマインアピス（Ｄｒ）・マイケルランドゥ（Ｇ）・トムスコット（Ｓａｘ）等と錚々たる面子です・・・金かかってます（笑）！！ジャケットも合成ではなく実際ベッドを並べたとか・・・ストームソーガソンの仕事は本当スケールがでかい。４曲目「ＯＮＥＳＬＩＰ」はデイヴとフィルマンザネラとの共作で最高にかっこいい・・・トニーレビンが大活躍の曲！！５曲目「オンザターニングザウェイ」はデイヴの泣きのギターが炸裂する曲で名演です！！この時期の来日公演を体験しましたが、本当凄いバンドでした・・・とてつもないエネルギーを誇るロックバンド！！必聴！！！！！   \n",
       "3                                                                                                                                                                                                                                                                                                                                                                                                                                                          見たことない。<br />ヘッドマウントディスプレイで見たのですが 息ができなくなりました。   \n",
       "4                                                                                                                                                                                                                                                                                                                                                                           日本のPSPに対応してないので<br />コレクションアイテムになりましたw<br /><br />けど、コレクターとしては<br />いい品です(*'▽`)♪<br />メモリアルDVDBOXを購入してたので<br />今回の買い物は問題なしです♪   \n",
       "\n",
       "                                                                                                                                                                                                                                                                                                                                                                                                                                                                                                                                                                            mecab_token  \n",
       "0                                                                                                                                                                                                                                                                                                                                                                                                                                             [勝気, 女性, 勝気, 我侭, じゃなくて, 必死, なれる, 献身, さ, 反面, ある, 人間らしい, 女性, サクセスストーリー, ん, 利他, 的, 努力, できる, 素敵, 人格, 物語, 言う, 実話, そう, ジュリア・ロバーツ, できる, 映画, しれる]  \n",
       "1                                                                                                                                                                                                                                                                                                                                                                                                                                                                                                                                [裏切る, れる, ビデオ撮影, できる, なる, アプリ, 停止, BR, 笑える, くる, 位, ゴミ]  \n",
       "2  [1987年, リリース, 新生, PINK FLOYD, 1, 作, ・・デイヴギルモアズピンクフロイド, 形容, アルバム, 内容, 素晴らしい, 個人的, 大好き, 基本的, デイヴ, プロデューサー, ボブ・エズリン, 仕上げる, もの, 言える, ・・ニックメイソン, 完全, 復帰, する, おる, ドラム, 叩ける, 笑, リチャード・ライト, サポート, 程度, 扱い, なる, いる, 豪華, ミュージシャン, 参加, する, おる, Tony Levin, b, stick, ジム・ケルトナー, DR, カーマイン・アピス, DR, Michael Landau, g, トム・スコット, sax, 等, 錚々たる, 面子, 金, かかる, 笑, ジャケット, 合成, ベッド, 並べる, ストーム・ソーガソン, 仕事, 本当, スケール, でかい, 4曲, 目, oneslip, デイヴ, フィル・マンザネラ, 共作, 最高, かっこいい, Tony Levin, 活躍, 曲, 5曲, 目, オンザターニングザウェイ, デイヴ, 泣き, ギター, 炸裂, する, 曲, 名演, 時期, 来日公演, 体験, する, 本当, 凄い, バンド, 途轍, ない, エネルギー, 誇る, ロックバンド, 必聴]  \n",
       "3                                                                                                                                                                                                                                                                                                                                                                                                                                                                                                                                    [見る, こと, ない, BR, ヘッドマウントディスプレイ, 見る, の, 息, できる, なる]  \n",
       "4                                                                                                                                                                                                                                                                                                                                                                                                                                                              [日本, PSP, 対応, する, てる, BR, コレクション, アイテム, なる, w, BR, BR, コレクター, BR, いい, 品, BR, メモリアル, dvdbox, 購入, する, てる, BR, 今回, 買い物, 問題]  "
      ]
     },
     "execution_count": 45,
     "metadata": {},
     "output_type": "execute_result"
    }
   ],
   "source": [
    "X.head()"
   ]
  },
  {
   "cell_type": "code",
   "execution_count": 55,
   "id": "engaged-jerusalem",
   "metadata": {},
   "outputs": [
    {
     "name": "stderr",
     "output_type": "stream",
     "text": [
      "/usr/local/lib/python3.8/site-packages/pandas/core/indexing.py:1781: SettingWithCopyWarning: \n",
      "A value is trying to be set on a copy of a slice from a DataFrame.\n",
      "Try using .loc[row_indexer,col_indexer] = value instead\n",
      "\n",
      "See the caveats in the documentation: https://pandas.pydata.org/pandas-docs/stable/user_guide/indexing.html#returning-a-view-versus-a-copy\n",
      "  self.obj[item_labels[indexer[info_axis]]] = value\n"
     ]
    }
   ],
   "source": [
    "X.loc[:, 'mecab_token'] = X['mecab_token'].apply(lambda x: ' '.join(x))"
   ]
  },
  {
   "cell_type": "code",
   "execution_count": 56,
   "id": "growing-project",
   "metadata": {},
   "outputs": [
    {
     "data": {
      "text/html": [
       "<div>\n",
       "<style scoped>\n",
       "    .dataframe tbody tr th:only-of-type {\n",
       "        vertical-align: middle;\n",
       "    }\n",
       "\n",
       "    .dataframe tbody tr th {\n",
       "        vertical-align: top;\n",
       "    }\n",
       "\n",
       "    .dataframe thead th {\n",
       "        text-align: right;\n",
       "    }\n",
       "</style>\n",
       "<table border=\"1\" class=\"dataframe\">\n",
       "  <thead>\n",
       "    <tr style=\"text-align: right;\">\n",
       "      <th></th>\n",
       "      <th>review_body</th>\n",
       "      <th>mecab_token</th>\n",
       "    </tr>\n",
       "  </thead>\n",
       "  <tbody>\n",
       "    <tr>\n",
       "      <th>0</th>\n",
       "      <td>勝気な女性の、しかし、勝気な我侭な・・・じゃなくて、必死になれる献身さが反面にある。ほんとに、人間らしい女性のサクセスストーリーなんだけど、利他的な努力のできる素敵な人格の物語・・・と言うより、実話だそうです。実際、ジュリア・ロバーツだからできた映画かもしれません。</td>\n",
       "      <td>勝気 女性 勝気 我侭 じゃなくて 必死 なれる 献身 さ 反面 ある 人間らしい 女性 サクセスストーリー ん 利他 的 努力 できる 素敵 人格 物語 言う 実話 そう ジュリア・ロバーツ できる 映画 しれる</td>\n",
       "    </tr>\n",
       "    <tr>\n",
       "      <th>1</th>\n",
       "      <td>裏切られました！ビデオ撮影ができなくなりアプリ停止&lt;br /&gt;笑えてくる位ゴミ</td>\n",
       "      <td>裏切る れる ビデオ撮影 できる なる アプリ 停止 BR 笑える くる 位 ゴミ</td>\n",
       "    </tr>\n",
       "    <tr>\n",
       "      <th>2</th>\n",
       "      <td>１９８７年リリースの新生ピンクフロイドの第１作・・・デイヴギルモアズピンクフロイドという形容がピッタリのアルバムで、内容は素晴らしく個人的には大好きです。基本的にはデイヴとプロデューサー・ボブエズリンが仕上げたものと言えます・・・ニックメイソンも完全に復帰しておらず（ドラムが叩けない・・・笑）、リチャードライトもサポート程度の扱いになっています。豪華ミュージシャンが参加しており、トニーレビン（Ｂ・Ｓｔｉｃｋ）・ジムケルトナー（Ｄｒ）・カーマインアピス（Ｄｒ）・マイケルランドゥ（Ｇ）・トムスコット（Ｓａｘ）等と錚々たる面子です・・・金かかってます（笑）！！ジャケットも合成ではなく実際ベッドを並べたとか・・・ストームソーガソンの仕事は本当スケールがでかい。４曲目「ＯＮＥＳＬＩＰ」はデイヴとフィルマンザネラとの共作で最高にかっこいい・・・トニーレビンが大活躍の曲！！５曲目「オンザターニングザウェイ」はデイヴの泣きのギターが炸裂する曲で名演です！！この時期の来日公演を体験しましたが、本当凄いバンドでした・・・とてつもないエネルギーを誇るロックバンド！！必聴！！！！！</td>\n",
       "      <td>1987年 リリース 新生 PINK FLOYD 1 作 ・・デイヴギルモアズピンクフロイド 形容 アルバム 内容 素晴らしい 個人的 大好き 基本的 デイヴ プロデューサー ボブ・エズリン 仕上げる もの 言える ・・ニックメイソン 完全 復帰 する おる ドラム 叩ける 笑 リチャード・ライト サポート 程度 扱い なる いる 豪華 ミュージシャン 参加 する おる Tony Levin b stick ジム・ケルトナー DR カーマイン・アピス DR Michael Landau g トム・スコット sax 等 錚々たる 面子 金 かかる 笑 ジャケット 合成 ベッド 並べる ストーム・ソーガソン 仕事 本当 スケール でかい 4曲 目 oneslip デイヴ フィル・マンザネラ 共作 最高 かっこいい Tony Levin 活躍 曲 5曲 目 オンザターニングザウェイ デイヴ 泣き ギター 炸裂 する 曲 名演 時期 来日公演 体験 する 本当 凄い バンド 途轍 ない エネルギー 誇る ロックバンド 必聴</td>\n",
       "    </tr>\n",
       "    <tr>\n",
       "      <th>3</th>\n",
       "      <td>見たことない。&lt;br /&gt;ヘッドマウントディスプレイで見たのですが 息ができなくなりました。</td>\n",
       "      <td>見る こと ない BR ヘッドマウントディスプレイ 見る の 息 できる なる</td>\n",
       "    </tr>\n",
       "    <tr>\n",
       "      <th>4</th>\n",
       "      <td>日本のPSPに対応してないので&lt;br /&gt;コレクションアイテムになりましたw&lt;br /&gt;&lt;br /&gt;けど、コレクターとしては&lt;br /&gt;いい品です(*'▽`)♪&lt;br /&gt;メモリアルDVDBOXを購入してたので&lt;br /&gt;今回の買い物は問題なしです♪</td>\n",
       "      <td>日本 PSP 対応 する てる BR コレクション アイテム なる w BR BR コレクター BR いい 品 BR メモリアル dvdbox 購入 する てる BR 今回 買い物 問題</td>\n",
       "    </tr>\n",
       "    <tr>\n",
       "      <th>...</th>\n",
       "      <td>...</td>\n",
       "      <td>...</td>\n",
       "    </tr>\n",
       "    <tr>\n",
       "      <th>4990</th>\n",
       "      <td>デビュー以来のリアルタイムのリスナーですが、一番嫌いな時期に戻っちった、が素直な感想。そうメタル・ジャスティスだよ。カークのソロもそっくりだし。曲構成のバラバラなとこも。前作は評価されてない程嫌いじゃないけど、これは嫌。けど、メタル・ジャスティスの後にブラックアルバムが出たことに期待を込めて。次は</td>\n",
       "      <td>デビュー以来 リアルタイム リスナー 一番 嫌い 時期 戻る ちる 素直 感想 そう メタル・ジャスティス QUIRK ソロ だし 曲 構成 バラバラ とこ 前作 評価 する れる てる 嫌い これ 嫌 メタル・ジャスティス 後 ブラック・アルバム 出る こと 期待 込める 次</td>\n",
       "    </tr>\n",
       "    <tr>\n",
       "      <th>4991</th>\n",
       "      <td>冒頭の戦闘シーンは、さすがリドリー・スコット。緊張感に包まれた戦士の鼓動や戦場の匂いまでが伝わってくるような迫力。それにしても、この監督は登場人物が濡れる状況が好きだなあ。戦闘が終わると、脚本の瑕疵が気になりだしてしかたがなかった。反逆罪で殺されそうになった将軍が簡単に逃げられたのはなぜか？　必死で家に戻った将軍よりも家族が虐殺されたのが先なのはなぜか？　奴隷となったいろいろな民族が自由にコミュニケーションできたのは何語で会話していたのか？　数え出すときりがないくらいに疑問が多い。頭の中に浮かぶクエスチョンマークをより分けながら観ていたが、同様にローマ時代を描いた『ベンハー』には遠く及ばない駄作ではないか。どうしちゃったんだリドリー・スコット。</td>\n",
       "      <td>冒頭 戦闘シーン リドリー・スコット 緊張感 包む れる 戦士 鼓動 戦場 匂い 伝わる くる よう 迫力 それにしてもこの 監督 登場人物 濡れる 状況 好き 戦闘 終わる 脚本 瑕疵 気 なる だす しかた ない 反逆罪 殺す れる そう なる 将軍 簡単 逃げる られる の 必死 家 戻る 将軍 家族 虐殺 する れる の 先 の 奴隷 なる いろいろ 民族 自由 コミュニケーション できる の 何 語 会話 する いる の 数える 出す きり ない 疑問 多い 頭 中 浮かぶ クエスチョンマーク より分ける 観る いる 同様 ローマ 時代 描く ベンハー 遠い 及ぶ 駄作 する ちゃう ん リドリー・スコット</td>\n",
       "    </tr>\n",
       "    <tr>\n",
       "      <th>4992</th>\n",
       "      <td>なんて内容がないんだ。&lt;br /&gt;&lt;br /&gt;楽しい絵本のような感じでしょうか。&lt;br /&gt;&lt;br /&gt;「みんなでうちに帰ろう〜」みたいなＣＭコピーでしたが、帰りませんから。&lt;br /&gt;&lt;br /&gt;頑張って帰るのかと思いきや、全然違うオチです。&lt;br /&gt;&lt;br /&gt;びっくりします。&lt;br /&gt;&lt;br /&gt;ＣＧ映画はおもしろいと思っていましたが、考え直しが必要です。</td>\n",
       "      <td>内容 ない ん BR BR 楽しい 絵本 よう 感じ BR BR みんな うち 帰る みたい cm コピー 帰る BR BR 頑張る 帰る の 思う 違う オチ BR BR びっくり する BR BR CG 映画 おもしろい 思う いる 考え直す 必要</td>\n",
       "    </tr>\n",
       "    <tr>\n",
       "      <th>4993</th>\n",
       "      <td>つまらなかった。アギレラは好きだし、アギレラのPVも好きだが、映画として余りにもお粗末な内容だ。ストーリーも陳腐だし、アギレラの演技もセリフ棒読みで見ちゃいられない。やっぱりアギレラはミュージシャンであり、女優では無い、というのを実感させられる作品。歌のシーンも、妙にリアリティだしちゃって、PVのような迫力も無し。カメラワークも退屈だし、撮影監督誰だ?て感じ。アギレラにとっては、キャリアの汚点と言える作品では無いでしょうか。アギレラのファンは喜んで見るだろうけど。ミュージシャンものの映画って大体こんなんよね。期待が大きかっただけにガッカリな内容でした。&lt;br /&gt;アギレラとシェールのギャラ高すぎて制作費に金を掛けられなかったか?</td>\n",
       "      <td>つまらない アギレラ 好き アギレラ pv 好きだ。 映画 粗末 内容 ストーリー 陳腐 アギレラ 演技 セリフ 棒読み 見る いる られる アギレラ ミュージシャン 女優 無い の 実感 する せる られる 作品 歌 シーン 妙 リアリティ ちゃう pv よう 迫力 無い カメラワーク 退屈 撮影監督 誰だ 感じ アギレラ キャリア 汚点 言える 作品 無い アギレラ ファン 見る ミュージシャン もの 映画 大体 困難 期待 大きい 内容 BR アギレラ シェール ギャラ 高 すぎ 制作 費 金 掛ける られる</td>\n",
       "    </tr>\n",
       "    <tr>\n",
       "      <th>4994</th>\n",
       "      <td>軒並好評価みたいですが、私にはいまいちピンと来るものがありませんでした。&lt;br /&gt;&lt;br /&gt;男女の駆引きや社交辞令的な言葉の綾を題材に恋愛バイブルみたいなノリなんですが、&lt;br /&gt;登場カップル数が多くて散漫になってしまっている印象を受けました。&lt;br /&gt;もうちょっとじっくり焦点を当てて観せてもいいのではと思いました。&lt;br /&gt;&lt;br /&gt;キャストもかなり豪華なんですが、形式故か各人浅く中途半端な出演の様な気がします。&lt;br /&gt;コミカル調で描かれてるので無理も無いですが、心に響くような類いではありません。</td>\n",
       "      <td>軒並 評価 みたい 私 来る もの ある BR BR 男女 駆引き 社交辞令 的 言葉 綾 題材 恋愛 バイブル みたい ノリ ん BR 登場 カップル 数 多い 散漫 なる しまう いる 印象 受ける BR 焦点 当てる 観る せる いい 出端 思う BR BR キャスト 豪華 ん 形式 故 各人 浅い 中途半端 出演 様 気 する BR コミカル 調 描く れる てる 無理 無い 心 響く よう 類 い 有馬線</td>\n",
       "    </tr>\n",
       "  </tbody>\n",
       "</table>\n",
       "<p>4995 rows × 2 columns</p>\n",
       "</div>"
      ],
      "text/plain": [
       "                                                                                                                                                                                                                                                                                                                                                                                                                                                                                                 review_body  \\\n",
       "0                                                                                                                                                                                                                                                                                                                                                                      勝気な女性の、しかし、勝気な我侭な・・・じゃなくて、必死になれる献身さが反面にある。ほんとに、人間らしい女性のサクセスストーリーなんだけど、利他的な努力のできる素敵な人格の物語・・・と言うより、実話だそうです。実際、ジュリア・ロバーツだからできた映画かもしれません。   \n",
       "1                                                                                                                                                                                                                                                                                                                                                                                                                                                                    裏切られました！ビデオ撮影ができなくなりアプリ停止<br />笑えてくる位ゴミ   \n",
       "2     １９８７年リリースの新生ピンクフロイドの第１作・・・デイヴギルモアズピンクフロイドという形容がピッタリのアルバムで、内容は素晴らしく個人的には大好きです。基本的にはデイヴとプロデューサー・ボブエズリンが仕上げたものと言えます・・・ニックメイソンも完全に復帰しておらず（ドラムが叩けない・・・笑）、リチャードライトもサポート程度の扱いになっています。豪華ミュージシャンが参加しており、トニーレビン（Ｂ・Ｓｔｉｃｋ）・ジムケルトナー（Ｄｒ）・カーマインアピス（Ｄｒ）・マイケルランドゥ（Ｇ）・トムスコット（Ｓａｘ）等と錚々たる面子です・・・金かかってます（笑）！！ジャケットも合成ではなく実際ベッドを並べたとか・・・ストームソーガソンの仕事は本当スケールがでかい。４曲目「ＯＮＥＳＬＩＰ」はデイヴとフィルマンザネラとの共作で最高にかっこいい・・・トニーレビンが大活躍の曲！！５曲目「オンザターニングザウェイ」はデイヴの泣きのギターが炸裂する曲で名演です！！この時期の来日公演を体験しましたが、本当凄いバンドでした・・・とてつもないエネルギーを誇るロックバンド！！必聴！！！！！   \n",
       "3                                                                                                                                                                                                                                                                                                                                                                                                                                                             見たことない。<br />ヘッドマウントディスプレイで見たのですが 息ができなくなりました。   \n",
       "4                                                                                                                                                                                                                                                                                                                                                                              日本のPSPに対応してないので<br />コレクションアイテムになりましたw<br /><br />けど、コレクターとしては<br />いい品です(*'▽`)♪<br />メモリアルDVDBOXを購入してたので<br />今回の買い物は問題なしです♪   \n",
       "...                                                                                                                                                                                                                                                                                                                                                                                                                                                                                                      ...   \n",
       "4990                                                                                                                                                                                                                                                                                                                                                   デビュー以来のリアルタイムのリスナーですが、一番嫌いな時期に戻っちった、が素直な感想。そうメタル・ジャスティスだよ。カークのソロもそっくりだし。曲構成のバラバラなとこも。前作は評価されてない程嫌いじゃないけど、これは嫌。けど、メタル・ジャスティスの後にブラックアルバムが出たことに期待を込めて。次は   \n",
       "4991                                                                                                                                                                  冒頭の戦闘シーンは、さすがリドリー・スコット。緊張感に包まれた戦士の鼓動や戦場の匂いまでが伝わってくるような迫力。それにしても、この監督は登場人物が濡れる状況が好きだなあ。戦闘が終わると、脚本の瑕疵が気になりだしてしかたがなかった。反逆罪で殺されそうになった将軍が簡単に逃げられたのはなぜか？　必死で家に戻った将軍よりも家族が虐殺されたのが先なのはなぜか？　奴隷となったいろいろな民族が自由にコミュニケーションできたのは何語で会話していたのか？　数え出すときりがないくらいに疑問が多い。頭の中に浮かぶクエスチョンマークをより分けながら観ていたが、同様にローマ時代を描いた『ベンハー』には遠く及ばない駄作ではないか。どうしちゃったんだリドリー・スコット。   \n",
       "4992                                                                                                                                                                                                                                                                                                                なんて内容がないんだ。<br /><br />楽しい絵本のような感じでしょうか。<br /><br />「みんなでうちに帰ろう〜」みたいなＣＭコピーでしたが、帰りませんから。<br /><br />頑張って帰るのかと思いきや、全然違うオチです。<br /><br />びっくりします。<br /><br />ＣＧ映画はおもしろいと思っていましたが、考え直しが必要です。   \n",
       "4993                                                                                                                                                                          つまらなかった。アギレラは好きだし、アギレラのPVも好きだが、映画として余りにもお粗末な内容だ。ストーリーも陳腐だし、アギレラの演技もセリフ棒読みで見ちゃいられない。やっぱりアギレラはミュージシャンであり、女優では無い、というのを実感させられる作品。歌のシーンも、妙にリアリティだしちゃって、PVのような迫力も無し。カメラワークも退屈だし、撮影監督誰だ?て感じ。アギレラにとっては、キャリアの汚点と言える作品では無いでしょうか。アギレラのファンは喜んで見るだろうけど。ミュージシャンものの映画って大体こんなんよね。期待が大きかっただけにガッカリな内容でした。<br />アギレラとシェールのギャラ高すぎて制作費に金を掛けられなかったか?   \n",
       "4994                                                                                                                                                                                                                                    軒並好評価みたいですが、私にはいまいちピンと来るものがありませんでした。<br /><br />男女の駆引きや社交辞令的な言葉の綾を題材に恋愛バイブルみたいなノリなんですが、<br />登場カップル数が多くて散漫になってしまっている印象を受けました。<br />もうちょっとじっくり焦点を当てて観せてもいいのではと思いました。<br /><br />キャストもかなり豪華なんですが、形式故か各人浅く中途半端な出演の様な気がします。<br />コミカル調で描かれてるので無理も無いですが、心に響くような類いではありません。   \n",
       "\n",
       "                                                                                                                                                                                                                                                                                                                                                                                                                                                                           mecab_token  \n",
       "0                                                                                                                                                                                                                                                                                                                                                                          勝気 女性 勝気 我侭 じゃなくて 必死 なれる 献身 さ 反面 ある 人間らしい 女性 サクセスストーリー ん 利他 的 努力 できる 素敵 人格 物語 言う 実話 そう ジュリア・ロバーツ できる 映画 しれる  \n",
       "1                                                                                                                                                                                                                                                                                                                                                                                                                                            裏切る れる ビデオ撮影 できる なる アプリ 停止 BR 笑える くる 位 ゴミ  \n",
       "2     1987年 リリース 新生 PINK FLOYD 1 作 ・・デイヴギルモアズピンクフロイド 形容 アルバム 内容 素晴らしい 個人的 大好き 基本的 デイヴ プロデューサー ボブ・エズリン 仕上げる もの 言える ・・ニックメイソン 完全 復帰 する おる ドラム 叩ける 笑 リチャード・ライト サポート 程度 扱い なる いる 豪華 ミュージシャン 参加 する おる Tony Levin b stick ジム・ケルトナー DR カーマイン・アピス DR Michael Landau g トム・スコット sax 等 錚々たる 面子 金 かかる 笑 ジャケット 合成 ベッド 並べる ストーム・ソーガソン 仕事 本当 スケール でかい 4曲 目 oneslip デイヴ フィル・マンザネラ 共作 最高 かっこいい Tony Levin 活躍 曲 5曲 目 オンザターニングザウェイ デイヴ 泣き ギター 炸裂 する 曲 名演 時期 来日公演 体験 する 本当 凄い バンド 途轍 ない エネルギー 誇る ロックバンド 必聴  \n",
       "3                                                                                                                                                                                                                                                                                                                                                                                                                                              見る こと ない BR ヘッドマウントディスプレイ 見る の 息 できる なる  \n",
       "4                                                                                                                                                                                                                                                                                                                                                                                        日本 PSP 対応 する てる BR コレクション アイテム なる w BR BR コレクター BR いい 品 BR メモリアル dvdbox 購入 する てる BR 今回 買い物 問題  \n",
       "...                                                                                                                                                                                                                                                                                                                                                                                                                                                                                ...  \n",
       "4990                                                                                                                                                                                                                                                                                                                                       デビュー以来 リアルタイム リスナー 一番 嫌い 時期 戻る ちる 素直 感想 そう メタル・ジャスティス QUIRK ソロ だし 曲 構成 バラバラ とこ 前作 評価 する れる てる 嫌い これ 嫌 メタル・ジャスティス 後 ブラック・アルバム 出る こと 期待 込める 次  \n",
       "4991                                                                                                                                                          冒頭 戦闘シーン リドリー・スコット 緊張感 包む れる 戦士 鼓動 戦場 匂い 伝わる くる よう 迫力 それにしてもこの 監督 登場人物 濡れる 状況 好き 戦闘 終わる 脚本 瑕疵 気 なる だす しかた ない 反逆罪 殺す れる そう なる 将軍 簡単 逃げる られる の 必死 家 戻る 将軍 家族 虐殺 する れる の 先 の 奴隷 なる いろいろ 民族 自由 コミュニケーション できる の 何 語 会話 する いる の 数える 出す きり ない 疑問 多い 頭 中 浮かぶ クエスチョンマーク より分ける 観る いる 同様 ローマ 時代 描く ベンハー 遠い 及ぶ 駄作 する ちゃう ん リドリー・スコット  \n",
       "4992                                                                                                                                                                                                                                                                                                                                                    内容 ない ん BR BR 楽しい 絵本 よう 感じ BR BR みんな うち 帰る みたい cm コピー 帰る BR BR 頑張る 帰る の 思う 違う オチ BR BR びっくり する BR BR CG 映画 おもしろい 思う いる 考え直す 必要  \n",
       "4993                                                                                                                                                                                                              つまらない アギレラ 好き アギレラ pv 好きだ。 映画 粗末 内容 ストーリー 陳腐 アギレラ 演技 セリフ 棒読み 見る いる られる アギレラ ミュージシャン 女優 無い の 実感 する せる られる 作品 歌 シーン 妙 リアリティ ちゃう pv よう 迫力 無い カメラワーク 退屈 撮影監督 誰だ 感じ アギレラ キャリア 汚点 言える 作品 無い アギレラ ファン 見る ミュージシャン もの 映画 大体 困難 期待 大きい 内容 BR アギレラ シェール ギャラ 高 すぎ 制作 費 金 掛ける られる  \n",
       "4994                                                                                                                                                                                                                                                                 軒並 評価 みたい 私 来る もの ある BR BR 男女 駆引き 社交辞令 的 言葉 綾 題材 恋愛 バイブル みたい ノリ ん BR 登場 カップル 数 多い 散漫 なる しまう いる 印象 受ける BR 焦点 当てる 観る せる いい 出端 思う BR BR キャスト 豪華 ん 形式 故 各人 浅い 中途半端 出演 様 気 する BR コミカル 調 描く れる てる 無理 無い 心 響く よう 類 い 有馬線  \n",
       "\n",
       "[4995 rows x 2 columns]"
      ]
     },
     "execution_count": 56,
     "metadata": {},
     "output_type": "execute_result"
    }
   ],
   "source": [
    "X"
   ]
  },
  {
   "cell_type": "markdown",
   "id": "cutting-object",
   "metadata": {},
   "source": [
    "# train test split"
   ]
  },
  {
   "cell_type": "code",
   "execution_count": 57,
   "id": "controlled-gathering",
   "metadata": {},
   "outputs": [],
   "source": [
    "X_train, X_test, y_train, y_test = train_test_split(X, y, test_size=0.2, random_state=42)"
   ]
  },
  {
   "cell_type": "code",
   "execution_count": 58,
   "id": "strong-bryan",
   "metadata": {},
   "outputs": [
    {
     "data": {
      "text/plain": [
       "(3996, 2)"
      ]
     },
     "execution_count": 58,
     "metadata": {},
     "output_type": "execute_result"
    }
   ],
   "source": [
    "X_train.shape"
   ]
  },
  {
   "cell_type": "code",
   "execution_count": 59,
   "id": "wired-shannon",
   "metadata": {},
   "outputs": [
    {
     "data": {
      "text/plain": [
       "array([3, 1, 3, ..., 3, 2, 5])"
      ]
     },
     "execution_count": 59,
     "metadata": {},
     "output_type": "execute_result"
    }
   ],
   "source": [
    "y_train['star_rating'].values"
   ]
  },
  {
   "cell_type": "code",
   "execution_count": 60,
   "id": "japanese-version",
   "metadata": {},
   "outputs": [
    {
     "name": "stdout",
     "output_type": "stream",
     "text": [
      "0.3443\n"
     ]
    }
   ],
   "source": [
    "train_and_eval(X_train['mecab_token'], y_train['star_rating'].values, X_test['mecab_token'], y_test['star_rating'].values)"
   ]
  },
  {
   "cell_type": "markdown",
   "id": "transparent-mexican",
   "metadata": {},
   "source": [
    "# スクリプト実行"
   ]
  },
  {
   "cell_type": "code",
   "execution_count": 61,
   "id": "attended-sheriff",
   "metadata": {},
   "outputs": [
    {
     "name": "stdout",
     "output_type": "stream",
     "text": [
      "[0.4GB(+0.3GB):12.5sec] load data \n",
      "[1.0GB(+0.5GB):4.8sec] mecab tokenize \n",
      "0.3443\n",
      "[1.0GB(+0.0GB):1.6sec] train \n"
     ]
    }
   ],
   "source": [
    "! python3 train_mecab.py"
   ]
  },
  {
   "cell_type": "code",
   "execution_count": 2,
   "id": "signal-directory",
   "metadata": {},
   "outputs": [
    {
     "name": "stdout",
     "output_type": "stream",
     "text": [
      "Tokenization only.\n",
      "0.4010\n",
      "Clean html.\n",
      "/usr/local/lib/python3.8/site-packages/sklearn/svm/_base.py:985: ConvergenceWarning: Liblinear failed to converge, increase the number of iterations.\n",
      "  warnings.warn(\"Liblinear failed to converge, increase \"\n",
      "0.4020\n",
      "Normalize number.\n",
      "0.3930\n",
      "Base form.\n",
      "0.3930\n",
      "Lower text.\n",
      "/usr/local/lib/python3.8/site-packages/sklearn/svm/_base.py:985: ConvergenceWarning: Liblinear failed to converge, increase the number of iterations.\n",
      "  warnings.warn(\"Liblinear failed to converge, increase \"\n",
      "0.3900\n"
     ]
    }
   ],
   "source": [
    "# ! python3 train.py"
   ]
  },
  {
   "cell_type": "code",
   "execution_count": null,
   "id": "attached-control",
   "metadata": {},
   "outputs": [],
   "source": []
  }
 ],
 "metadata": {
  "kernelspec": {
   "display_name": "Python 3",
   "language": "python",
   "name": "python3"
  },
  "language_info": {
   "codemirror_mode": {
    "name": "ipython",
    "version": 3
   },
   "file_extension": ".py",
   "mimetype": "text/x-python",
   "name": "python",
   "nbconvert_exporter": "python",
   "pygments_lexer": "ipython3",
   "version": "3.8.6"
  }
 },
 "nbformat": 4,
 "nbformat_minor": 5
}
