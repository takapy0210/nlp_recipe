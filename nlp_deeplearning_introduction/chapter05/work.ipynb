{
 "cells": [
  {
   "cell_type": "code",
   "execution_count": 1,
   "id": "organizational-connection",
   "metadata": {},
   "outputs": [],
   "source": [
    "import pandas as pd"
   ]
  },
  {
   "cell_type": "code",
   "execution_count": 2,
   "id": "afraid-treasure",
   "metadata": {},
   "outputs": [],
   "source": [
    "df = pd.DataFrame([\n",
    "    ['Cola', 'S'],\n",
    "    ['Cola', 'M'],\n",
    "    ['Green', 'L'],\n",
    "    ['Milk', 'M'],\n",
    "    ], columns=['drink', 'size']\n",
    ")"
   ]
  },
  {
   "cell_type": "code",
   "execution_count": 3,
   "id": "steady-congress",
   "metadata": {},
   "outputs": [
    {
     "data": {
      "text/html": [
       "<div>\n",
       "<style scoped>\n",
       "    .dataframe tbody tr th:only-of-type {\n",
       "        vertical-align: middle;\n",
       "    }\n",
       "\n",
       "    .dataframe tbody tr th {\n",
       "        vertical-align: top;\n",
       "    }\n",
       "\n",
       "    .dataframe thead th {\n",
       "        text-align: right;\n",
       "    }\n",
       "</style>\n",
       "<table border=\"1\" class=\"dataframe\">\n",
       "  <thead>\n",
       "    <tr style=\"text-align: right;\">\n",
       "      <th></th>\n",
       "      <th>drink</th>\n",
       "      <th>size</th>\n",
       "    </tr>\n",
       "  </thead>\n",
       "  <tbody>\n",
       "    <tr>\n",
       "      <th>0</th>\n",
       "      <td>Cola</td>\n",
       "      <td>S</td>\n",
       "    </tr>\n",
       "    <tr>\n",
       "      <th>1</th>\n",
       "      <td>Cola</td>\n",
       "      <td>M</td>\n",
       "    </tr>\n",
       "    <tr>\n",
       "      <th>2</th>\n",
       "      <td>Green</td>\n",
       "      <td>L</td>\n",
       "    </tr>\n",
       "    <tr>\n",
       "      <th>3</th>\n",
       "      <td>Milk</td>\n",
       "      <td>M</td>\n",
       "    </tr>\n",
       "  </tbody>\n",
       "</table>\n",
       "</div>"
      ],
      "text/plain": [
       "   drink size\n",
       "0   Cola    S\n",
       "1   Cola    M\n",
       "2  Green    L\n",
       "3   Milk    M"
      ]
     },
     "execution_count": 3,
     "metadata": {},
     "output_type": "execute_result"
    }
   ],
   "source": [
    "df"
   ]
  },
  {
   "cell_type": "code",
   "execution_count": 4,
   "id": "amino-steel",
   "metadata": {},
   "outputs": [],
   "source": [
    "size2int = {'S': 0, 'M': 1, 'L': 2}\n",
    "df['size'] = df['size'].map(size2int)"
   ]
  },
  {
   "cell_type": "code",
   "execution_count": 5,
   "id": "level-compilation",
   "metadata": {},
   "outputs": [
    {
     "data": {
      "text/html": [
       "<div>\n",
       "<style scoped>\n",
       "    .dataframe tbody tr th:only-of-type {\n",
       "        vertical-align: middle;\n",
       "    }\n",
       "\n",
       "    .dataframe tbody tr th {\n",
       "        vertical-align: top;\n",
       "    }\n",
       "\n",
       "    .dataframe thead th {\n",
       "        text-align: right;\n",
       "    }\n",
       "</style>\n",
       "<table border=\"1\" class=\"dataframe\">\n",
       "  <thead>\n",
       "    <tr style=\"text-align: right;\">\n",
       "      <th></th>\n",
       "      <th>drink</th>\n",
       "      <th>size</th>\n",
       "    </tr>\n",
       "  </thead>\n",
       "  <tbody>\n",
       "    <tr>\n",
       "      <th>0</th>\n",
       "      <td>Cola</td>\n",
       "      <td>0</td>\n",
       "    </tr>\n",
       "    <tr>\n",
       "      <th>1</th>\n",
       "      <td>Cola</td>\n",
       "      <td>1</td>\n",
       "    </tr>\n",
       "    <tr>\n",
       "      <th>2</th>\n",
       "      <td>Green</td>\n",
       "      <td>2</td>\n",
       "    </tr>\n",
       "    <tr>\n",
       "      <th>3</th>\n",
       "      <td>Milk</td>\n",
       "      <td>1</td>\n",
       "    </tr>\n",
       "  </tbody>\n",
       "</table>\n",
       "</div>"
      ],
      "text/plain": [
       "   drink  size\n",
       "0   Cola     0\n",
       "1   Cola     1\n",
       "2  Green     2\n",
       "3   Milk     1"
      ]
     },
     "execution_count": 5,
     "metadata": {},
     "output_type": "execute_result"
    }
   ],
   "source": [
    "df"
   ]
  },
  {
   "cell_type": "code",
   "execution_count": 6,
   "id": "exclusive-parks",
   "metadata": {},
   "outputs": [],
   "source": [
    "from sklearn.preprocessing import LabelEncoder, OneHotEncoder"
   ]
  },
  {
   "cell_type": "code",
   "execution_count": 7,
   "id": "boolean-completion",
   "metadata": {},
   "outputs": [],
   "source": [
    "encoder = LabelEncoder()"
   ]
  },
  {
   "cell_type": "code",
   "execution_count": 8,
   "id": "southern-curtis",
   "metadata": {},
   "outputs": [],
   "source": [
    "df['drinkLabel'] = encoder.fit_transform(df['drink'])"
   ]
  },
  {
   "cell_type": "code",
   "execution_count": 9,
   "id": "color-desperate",
   "metadata": {},
   "outputs": [
    {
     "data": {
      "text/html": [
       "<div>\n",
       "<style scoped>\n",
       "    .dataframe tbody tr th:only-of-type {\n",
       "        vertical-align: middle;\n",
       "    }\n",
       "\n",
       "    .dataframe tbody tr th {\n",
       "        vertical-align: top;\n",
       "    }\n",
       "\n",
       "    .dataframe thead th {\n",
       "        text-align: right;\n",
       "    }\n",
       "</style>\n",
       "<table border=\"1\" class=\"dataframe\">\n",
       "  <thead>\n",
       "    <tr style=\"text-align: right;\">\n",
       "      <th></th>\n",
       "      <th>drink</th>\n",
       "      <th>size</th>\n",
       "      <th>drinkLabel</th>\n",
       "    </tr>\n",
       "  </thead>\n",
       "  <tbody>\n",
       "    <tr>\n",
       "      <th>0</th>\n",
       "      <td>Cola</td>\n",
       "      <td>0</td>\n",
       "      <td>0</td>\n",
       "    </tr>\n",
       "    <tr>\n",
       "      <th>1</th>\n",
       "      <td>Cola</td>\n",
       "      <td>1</td>\n",
       "      <td>0</td>\n",
       "    </tr>\n",
       "    <tr>\n",
       "      <th>2</th>\n",
       "      <td>Green</td>\n",
       "      <td>2</td>\n",
       "      <td>1</td>\n",
       "    </tr>\n",
       "    <tr>\n",
       "      <th>3</th>\n",
       "      <td>Milk</td>\n",
       "      <td>1</td>\n",
       "      <td>2</td>\n",
       "    </tr>\n",
       "  </tbody>\n",
       "</table>\n",
       "</div>"
      ],
      "text/plain": [
       "   drink  size  drinkLabel\n",
       "0   Cola     0           0\n",
       "1   Cola     1           0\n",
       "2  Green     2           1\n",
       "3   Milk     1           2"
      ]
     },
     "execution_count": 9,
     "metadata": {},
     "output_type": "execute_result"
    }
   ],
   "source": [
    "df"
   ]
  },
  {
   "cell_type": "code",
   "execution_count": 10,
   "id": "accessible-commonwealth",
   "metadata": {},
   "outputs": [],
   "source": [
    "ohe = OneHotEncoder(sparse=False)\n",
    "ohe_df = pd.DataFrame((ohe.fit_transform(df[['drink']])), columns=ohe.categories_[0])\n",
    "ohe_df = ohe_df.add_prefix('drink_')\n",
    "df = pd.concat([df, ohe_df], axis=1)"
   ]
  },
  {
   "cell_type": "code",
   "execution_count": 11,
   "id": "elegant-volunteer",
   "metadata": {},
   "outputs": [
    {
     "data": {
      "text/html": [
       "<div>\n",
       "<style scoped>\n",
       "    .dataframe tbody tr th:only-of-type {\n",
       "        vertical-align: middle;\n",
       "    }\n",
       "\n",
       "    .dataframe tbody tr th {\n",
       "        vertical-align: top;\n",
       "    }\n",
       "\n",
       "    .dataframe thead th {\n",
       "        text-align: right;\n",
       "    }\n",
       "</style>\n",
       "<table border=\"1\" class=\"dataframe\">\n",
       "  <thead>\n",
       "    <tr style=\"text-align: right;\">\n",
       "      <th></th>\n",
       "      <th>drink</th>\n",
       "      <th>size</th>\n",
       "      <th>drinkLabel</th>\n",
       "      <th>drink_Cola</th>\n",
       "      <th>drink_Green</th>\n",
       "      <th>drink_Milk</th>\n",
       "    </tr>\n",
       "  </thead>\n",
       "  <tbody>\n",
       "    <tr>\n",
       "      <th>0</th>\n",
       "      <td>Cola</td>\n",
       "      <td>0</td>\n",
       "      <td>0</td>\n",
       "      <td>1.0</td>\n",
       "      <td>0.0</td>\n",
       "      <td>0.0</td>\n",
       "    </tr>\n",
       "    <tr>\n",
       "      <th>1</th>\n",
       "      <td>Cola</td>\n",
       "      <td>1</td>\n",
       "      <td>0</td>\n",
       "      <td>1.0</td>\n",
       "      <td>0.0</td>\n",
       "      <td>0.0</td>\n",
       "    </tr>\n",
       "    <tr>\n",
       "      <th>2</th>\n",
       "      <td>Green</td>\n",
       "      <td>2</td>\n",
       "      <td>1</td>\n",
       "      <td>0.0</td>\n",
       "      <td>1.0</td>\n",
       "      <td>0.0</td>\n",
       "    </tr>\n",
       "    <tr>\n",
       "      <th>3</th>\n",
       "      <td>Milk</td>\n",
       "      <td>1</td>\n",
       "      <td>2</td>\n",
       "      <td>0.0</td>\n",
       "      <td>0.0</td>\n",
       "      <td>1.0</td>\n",
       "    </tr>\n",
       "  </tbody>\n",
       "</table>\n",
       "</div>"
      ],
      "text/plain": [
       "   drink  size  drinkLabel  drink_Cola  drink_Green  drink_Milk\n",
       "0   Cola     0           0         1.0          0.0         0.0\n",
       "1   Cola     1           0         1.0          0.0         0.0\n",
       "2  Green     2           1         0.0          1.0         0.0\n",
       "3   Milk     1           2         0.0          0.0         1.0"
      ]
     },
     "execution_count": 11,
     "metadata": {},
     "output_type": "execute_result"
    }
   ],
   "source": [
    "df"
   ]
  },
  {
   "cell_type": "markdown",
   "id": "collect-watch",
   "metadata": {},
   "source": [
    "# 学習"
   ]
  },
  {
   "cell_type": "code",
   "execution_count": 108,
   "id": "accepting-touch",
   "metadata": {},
   "outputs": [
    {
     "name": "stdout",
     "output_type": "stream",
     "text": [
      "Tokenization\n",
      "Binary\n",
      "0.8385\n",
      "Count\n",
      "0.8365\n",
      "TF-IDF\n",
      "0.8510\n",
      "Bigram\n",
      "0.8545\n"
     ]
    }
   ],
   "source": [
    "! python train.py"
   ]
  },
  {
   "cell_type": "markdown",
   "id": "neural-pressure",
   "metadata": {},
   "source": [
    "# one hotとgetdummies"
   ]
  },
  {
   "cell_type": "code",
   "execution_count": 12,
   "id": "dramatic-weekend",
   "metadata": {},
   "outputs": [],
   "source": [
    "# ! pip install featuretools"
   ]
  },
  {
   "cell_type": "code",
   "execution_count": 29,
   "id": "increasing-bryan",
   "metadata": {},
   "outputs": [],
   "source": [
    "import featuretools as ft\n",
    "import numpy as np\n",
    "import pandas as pd\n",
    "from sklearn.preprocessing import LabelEncoder, OneHotEncoder\n",
    "\n",
    "data = ft.demo.load_mock_customer()\n",
    "df = data['sessions']\n",
    "df = df[['customer_id', 'device']].head(12)\n",
    "df[7:8]['device'] = 'laptop'\n",
    "df[8:9]['device'] = 'TV'\n",
    "\n",
    "# Target Encodingの検証用にカラムを追加\n",
    "np.random.seed(seed=3)\n",
    "df['target'] = np.random.randint(1, 10, size=len(df))"
   ]
  },
  {
   "cell_type": "code",
   "execution_count": 30,
   "id": "incorporate-score",
   "metadata": {},
   "outputs": [
    {
     "data": {
      "text/html": [
       "<div>\n",
       "<style scoped>\n",
       "    .dataframe tbody tr th:only-of-type {\n",
       "        vertical-align: middle;\n",
       "    }\n",
       "\n",
       "    .dataframe tbody tr th {\n",
       "        vertical-align: top;\n",
       "    }\n",
       "\n",
       "    .dataframe thead th {\n",
       "        text-align: right;\n",
       "    }\n",
       "</style>\n",
       "<table border=\"1\" class=\"dataframe\">\n",
       "  <thead>\n",
       "    <tr style=\"text-align: right;\">\n",
       "      <th></th>\n",
       "      <th>customer_id</th>\n",
       "      <th>device</th>\n",
       "      <th>target</th>\n",
       "    </tr>\n",
       "  </thead>\n",
       "  <tbody>\n",
       "    <tr>\n",
       "      <th>0</th>\n",
       "      <td>2</td>\n",
       "      <td>desktop</td>\n",
       "      <td>9</td>\n",
       "    </tr>\n",
       "    <tr>\n",
       "      <th>1</th>\n",
       "      <td>5</td>\n",
       "      <td>mobile</td>\n",
       "      <td>4</td>\n",
       "    </tr>\n",
       "    <tr>\n",
       "      <th>2</th>\n",
       "      <td>4</td>\n",
       "      <td>mobile</td>\n",
       "      <td>9</td>\n",
       "    </tr>\n",
       "    <tr>\n",
       "      <th>3</th>\n",
       "      <td>1</td>\n",
       "      <td>mobile</td>\n",
       "      <td>9</td>\n",
       "    </tr>\n",
       "    <tr>\n",
       "      <th>4</th>\n",
       "      <td>4</td>\n",
       "      <td>mobile</td>\n",
       "      <td>1</td>\n",
       "    </tr>\n",
       "    <tr>\n",
       "      <th>5</th>\n",
       "      <td>1</td>\n",
       "      <td>tablet</td>\n",
       "      <td>6</td>\n",
       "    </tr>\n",
       "    <tr>\n",
       "      <th>6</th>\n",
       "      <td>3</td>\n",
       "      <td>tablet</td>\n",
       "      <td>4</td>\n",
       "    </tr>\n",
       "    <tr>\n",
       "      <th>7</th>\n",
       "      <td>4</td>\n",
       "      <td>laptop</td>\n",
       "      <td>6</td>\n",
       "    </tr>\n",
       "    <tr>\n",
       "      <th>8</th>\n",
       "      <td>1</td>\n",
       "      <td>TV</td>\n",
       "      <td>8</td>\n",
       "    </tr>\n",
       "    <tr>\n",
       "      <th>9</th>\n",
       "      <td>2</td>\n",
       "      <td>tablet</td>\n",
       "      <td>7</td>\n",
       "    </tr>\n",
       "    <tr>\n",
       "      <th>10</th>\n",
       "      <td>4</td>\n",
       "      <td>mobile</td>\n",
       "      <td>1</td>\n",
       "    </tr>\n",
       "    <tr>\n",
       "      <th>11</th>\n",
       "      <td>4</td>\n",
       "      <td>desktop</td>\n",
       "      <td>5</td>\n",
       "    </tr>\n",
       "  </tbody>\n",
       "</table>\n",
       "</div>"
      ],
      "text/plain": [
       "    customer_id   device  target\n",
       "0             2  desktop       9\n",
       "1             5   mobile       4\n",
       "2             4   mobile       9\n",
       "3             1   mobile       9\n",
       "4             4   mobile       1\n",
       "5             1   tablet       6\n",
       "6             3   tablet       4\n",
       "7             4   laptop       6\n",
       "8             1       TV       8\n",
       "9             2   tablet       7\n",
       "10            4   mobile       1\n",
       "11            4  desktop       5"
      ]
     },
     "execution_count": 30,
     "metadata": {},
     "output_type": "execute_result"
    }
   ],
   "source": [
    "df"
   ]
  },
  {
   "cell_type": "code",
   "execution_count": 31,
   "id": "adjacent-immune",
   "metadata": {},
   "outputs": [],
   "source": [
    "train = df[:7]\n",
    "test = df[7:]"
   ]
  },
  {
   "cell_type": "code",
   "execution_count": 32,
   "id": "nasty-waste",
   "metadata": {},
   "outputs": [
    {
     "data": {
      "text/html": [
       "<div>\n",
       "<style scoped>\n",
       "    .dataframe tbody tr th:only-of-type {\n",
       "        vertical-align: middle;\n",
       "    }\n",
       "\n",
       "    .dataframe tbody tr th {\n",
       "        vertical-align: top;\n",
       "    }\n",
       "\n",
       "    .dataframe thead th {\n",
       "        text-align: right;\n",
       "    }\n",
       "</style>\n",
       "<table border=\"1\" class=\"dataframe\">\n",
       "  <thead>\n",
       "    <tr style=\"text-align: right;\">\n",
       "      <th></th>\n",
       "      <th>customer_id</th>\n",
       "      <th>device</th>\n",
       "      <th>target</th>\n",
       "    </tr>\n",
       "  </thead>\n",
       "  <tbody>\n",
       "    <tr>\n",
       "      <th>0</th>\n",
       "      <td>2</td>\n",
       "      <td>desktop</td>\n",
       "      <td>9</td>\n",
       "    </tr>\n",
       "    <tr>\n",
       "      <th>1</th>\n",
       "      <td>5</td>\n",
       "      <td>mobile</td>\n",
       "      <td>4</td>\n",
       "    </tr>\n",
       "    <tr>\n",
       "      <th>2</th>\n",
       "      <td>4</td>\n",
       "      <td>mobile</td>\n",
       "      <td>9</td>\n",
       "    </tr>\n",
       "    <tr>\n",
       "      <th>3</th>\n",
       "      <td>1</td>\n",
       "      <td>mobile</td>\n",
       "      <td>9</td>\n",
       "    </tr>\n",
       "    <tr>\n",
       "      <th>4</th>\n",
       "      <td>4</td>\n",
       "      <td>mobile</td>\n",
       "      <td>1</td>\n",
       "    </tr>\n",
       "    <tr>\n",
       "      <th>5</th>\n",
       "      <td>1</td>\n",
       "      <td>tablet</td>\n",
       "      <td>6</td>\n",
       "    </tr>\n",
       "    <tr>\n",
       "      <th>6</th>\n",
       "      <td>3</td>\n",
       "      <td>tablet</td>\n",
       "      <td>4</td>\n",
       "    </tr>\n",
       "  </tbody>\n",
       "</table>\n",
       "</div>"
      ],
      "text/plain": [
       "   customer_id   device  target\n",
       "0            2  desktop       9\n",
       "1            5   mobile       4\n",
       "2            4   mobile       9\n",
       "3            1   mobile       9\n",
       "4            4   mobile       1\n",
       "5            1   tablet       6\n",
       "6            3   tablet       4"
      ]
     },
     "execution_count": 32,
     "metadata": {},
     "output_type": "execute_result"
    }
   ],
   "source": [
    "train"
   ]
  },
  {
   "cell_type": "code",
   "execution_count": 33,
   "id": "representative-beijing",
   "metadata": {},
   "outputs": [
    {
     "data": {
      "text/html": [
       "<div>\n",
       "<style scoped>\n",
       "    .dataframe tbody tr th:only-of-type {\n",
       "        vertical-align: middle;\n",
       "    }\n",
       "\n",
       "    .dataframe tbody tr th {\n",
       "        vertical-align: top;\n",
       "    }\n",
       "\n",
       "    .dataframe thead th {\n",
       "        text-align: right;\n",
       "    }\n",
       "</style>\n",
       "<table border=\"1\" class=\"dataframe\">\n",
       "  <thead>\n",
       "    <tr style=\"text-align: right;\">\n",
       "      <th></th>\n",
       "      <th>customer_id</th>\n",
       "      <th>device</th>\n",
       "      <th>target</th>\n",
       "    </tr>\n",
       "  </thead>\n",
       "  <tbody>\n",
       "    <tr>\n",
       "      <th>0</th>\n",
       "      <td>4</td>\n",
       "      <td>laptop</td>\n",
       "      <td>6</td>\n",
       "    </tr>\n",
       "    <tr>\n",
       "      <th>1</th>\n",
       "      <td>1</td>\n",
       "      <td>TV</td>\n",
       "      <td>8</td>\n",
       "    </tr>\n",
       "    <tr>\n",
       "      <th>2</th>\n",
       "      <td>2</td>\n",
       "      <td>tablet</td>\n",
       "      <td>7</td>\n",
       "    </tr>\n",
       "    <tr>\n",
       "      <th>3</th>\n",
       "      <td>4</td>\n",
       "      <td>mobile</td>\n",
       "      <td>1</td>\n",
       "    </tr>\n",
       "    <tr>\n",
       "      <th>4</th>\n",
       "      <td>4</td>\n",
       "      <td>desktop</td>\n",
       "      <td>5</td>\n",
       "    </tr>\n",
       "  </tbody>\n",
       "</table>\n",
       "</div>"
      ],
      "text/plain": [
       "   customer_id   device  target\n",
       "0            4   laptop       6\n",
       "1            1       TV       8\n",
       "2            2   tablet       7\n",
       "3            4   mobile       1\n",
       "4            4  desktop       5"
      ]
     },
     "execution_count": 33,
     "metadata": {},
     "output_type": "execute_result"
    }
   ],
   "source": [
    "test = test.reset_index(drop=True)\n",
    "test"
   ]
  },
  {
   "cell_type": "code",
   "execution_count": 34,
   "id": "interesting-appendix",
   "metadata": {},
   "outputs": [],
   "source": [
    "ohe = OneHotEncoder(sparse=False, handle_unknown='ignore')\n",
    "ohe.fit(train[['device']])\n",
    "ohe_df = pd.DataFrame((ohe.transform(train[['device']])), columns=ohe.categories_[0])\n",
    "ohe_df = ohe_df.add_prefix('drink_')\n",
    "train = pd.concat([train, ohe_df], axis=1)"
   ]
  },
  {
   "cell_type": "code",
   "execution_count": 35,
   "id": "trying-fraud",
   "metadata": {},
   "outputs": [
    {
     "data": {
      "text/html": [
       "<div>\n",
       "<style scoped>\n",
       "    .dataframe tbody tr th:only-of-type {\n",
       "        vertical-align: middle;\n",
       "    }\n",
       "\n",
       "    .dataframe tbody tr th {\n",
       "        vertical-align: top;\n",
       "    }\n",
       "\n",
       "    .dataframe thead th {\n",
       "        text-align: right;\n",
       "    }\n",
       "</style>\n",
       "<table border=\"1\" class=\"dataframe\">\n",
       "  <thead>\n",
       "    <tr style=\"text-align: right;\">\n",
       "      <th></th>\n",
       "      <th>customer_id</th>\n",
       "      <th>device</th>\n",
       "      <th>target</th>\n",
       "      <th>drink_desktop</th>\n",
       "      <th>drink_mobile</th>\n",
       "      <th>drink_tablet</th>\n",
       "    </tr>\n",
       "  </thead>\n",
       "  <tbody>\n",
       "    <tr>\n",
       "      <th>0</th>\n",
       "      <td>2</td>\n",
       "      <td>desktop</td>\n",
       "      <td>9</td>\n",
       "      <td>1.0</td>\n",
       "      <td>0.0</td>\n",
       "      <td>0.0</td>\n",
       "    </tr>\n",
       "    <tr>\n",
       "      <th>1</th>\n",
       "      <td>5</td>\n",
       "      <td>mobile</td>\n",
       "      <td>4</td>\n",
       "      <td>0.0</td>\n",
       "      <td>1.0</td>\n",
       "      <td>0.0</td>\n",
       "    </tr>\n",
       "    <tr>\n",
       "      <th>2</th>\n",
       "      <td>4</td>\n",
       "      <td>mobile</td>\n",
       "      <td>9</td>\n",
       "      <td>0.0</td>\n",
       "      <td>1.0</td>\n",
       "      <td>0.0</td>\n",
       "    </tr>\n",
       "    <tr>\n",
       "      <th>3</th>\n",
       "      <td>1</td>\n",
       "      <td>mobile</td>\n",
       "      <td>9</td>\n",
       "      <td>0.0</td>\n",
       "      <td>1.0</td>\n",
       "      <td>0.0</td>\n",
       "    </tr>\n",
       "    <tr>\n",
       "      <th>4</th>\n",
       "      <td>4</td>\n",
       "      <td>mobile</td>\n",
       "      <td>1</td>\n",
       "      <td>0.0</td>\n",
       "      <td>1.0</td>\n",
       "      <td>0.0</td>\n",
       "    </tr>\n",
       "    <tr>\n",
       "      <th>5</th>\n",
       "      <td>1</td>\n",
       "      <td>tablet</td>\n",
       "      <td>6</td>\n",
       "      <td>0.0</td>\n",
       "      <td>0.0</td>\n",
       "      <td>1.0</td>\n",
       "    </tr>\n",
       "    <tr>\n",
       "      <th>6</th>\n",
       "      <td>3</td>\n",
       "      <td>tablet</td>\n",
       "      <td>4</td>\n",
       "      <td>0.0</td>\n",
       "      <td>0.0</td>\n",
       "      <td>1.0</td>\n",
       "    </tr>\n",
       "  </tbody>\n",
       "</table>\n",
       "</div>"
      ],
      "text/plain": [
       "   customer_id   device  target  drink_desktop  drink_mobile  drink_tablet\n",
       "0            2  desktop       9            1.0           0.0           0.0\n",
       "1            5   mobile       4            0.0           1.0           0.0\n",
       "2            4   mobile       9            0.0           1.0           0.0\n",
       "3            1   mobile       9            0.0           1.0           0.0\n",
       "4            4   mobile       1            0.0           1.0           0.0\n",
       "5            1   tablet       6            0.0           0.0           1.0\n",
       "6            3   tablet       4            0.0           0.0           1.0"
      ]
     },
     "execution_count": 35,
     "metadata": {},
     "output_type": "execute_result"
    }
   ],
   "source": [
    "train"
   ]
  },
  {
   "cell_type": "code",
   "execution_count": 36,
   "id": "through-brush",
   "metadata": {},
   "outputs": [],
   "source": [
    "ohe_df = pd.DataFrame((ohe.transform(test[['device']])), columns=ohe.categories_[0])\n",
    "ohe_df = ohe_df.add_prefix('drink_')\n",
    "test = pd.concat([test, ohe_df], axis=1)"
   ]
  },
  {
   "cell_type": "code",
   "execution_count": 37,
   "id": "central-conditions",
   "metadata": {},
   "outputs": [
    {
     "data": {
      "text/html": [
       "<div>\n",
       "<style scoped>\n",
       "    .dataframe tbody tr th:only-of-type {\n",
       "        vertical-align: middle;\n",
       "    }\n",
       "\n",
       "    .dataframe tbody tr th {\n",
       "        vertical-align: top;\n",
       "    }\n",
       "\n",
       "    .dataframe thead th {\n",
       "        text-align: right;\n",
       "    }\n",
       "</style>\n",
       "<table border=\"1\" class=\"dataframe\">\n",
       "  <thead>\n",
       "    <tr style=\"text-align: right;\">\n",
       "      <th></th>\n",
       "      <th>customer_id</th>\n",
       "      <th>device</th>\n",
       "      <th>target</th>\n",
       "      <th>drink_desktop</th>\n",
       "      <th>drink_mobile</th>\n",
       "      <th>drink_tablet</th>\n",
       "    </tr>\n",
       "  </thead>\n",
       "  <tbody>\n",
       "    <tr>\n",
       "      <th>0</th>\n",
       "      <td>4</td>\n",
       "      <td>laptop</td>\n",
       "      <td>6</td>\n",
       "      <td>0.0</td>\n",
       "      <td>0.0</td>\n",
       "      <td>0.0</td>\n",
       "    </tr>\n",
       "    <tr>\n",
       "      <th>1</th>\n",
       "      <td>1</td>\n",
       "      <td>TV</td>\n",
       "      <td>8</td>\n",
       "      <td>0.0</td>\n",
       "      <td>0.0</td>\n",
       "      <td>0.0</td>\n",
       "    </tr>\n",
       "    <tr>\n",
       "      <th>2</th>\n",
       "      <td>2</td>\n",
       "      <td>tablet</td>\n",
       "      <td>7</td>\n",
       "      <td>0.0</td>\n",
       "      <td>0.0</td>\n",
       "      <td>1.0</td>\n",
       "    </tr>\n",
       "    <tr>\n",
       "      <th>3</th>\n",
       "      <td>4</td>\n",
       "      <td>mobile</td>\n",
       "      <td>1</td>\n",
       "      <td>0.0</td>\n",
       "      <td>1.0</td>\n",
       "      <td>0.0</td>\n",
       "    </tr>\n",
       "    <tr>\n",
       "      <th>4</th>\n",
       "      <td>4</td>\n",
       "      <td>desktop</td>\n",
       "      <td>5</td>\n",
       "      <td>1.0</td>\n",
       "      <td>0.0</td>\n",
       "      <td>0.0</td>\n",
       "    </tr>\n",
       "  </tbody>\n",
       "</table>\n",
       "</div>"
      ],
      "text/plain": [
       "   customer_id   device  target  drink_desktop  drink_mobile  drink_tablet\n",
       "0            4   laptop       6            0.0           0.0           0.0\n",
       "1            1       TV       8            0.0           0.0           0.0\n",
       "2            2   tablet       7            0.0           0.0           1.0\n",
       "3            4   mobile       1            0.0           1.0           0.0\n",
       "4            4  desktop       5            1.0           0.0           0.0"
      ]
     },
     "execution_count": 37,
     "metadata": {},
     "output_type": "execute_result"
    }
   ],
   "source": [
    "test"
   ]
  },
  {
   "cell_type": "markdown",
   "id": "married-finish",
   "metadata": {},
   "source": [
    "# ginzaで学習"
   ]
  },
  {
   "cell_type": "code",
   "execution_count": 8,
   "id": "delayed-therapist",
   "metadata": {},
   "outputs": [],
   "source": [
    "import sys\n",
    "from sklearn.feature_extraction.text import CountVectorizer, TfidfVectorizer\n",
    "from sklearn.model_selection import train_test_split\n",
    "\n",
    "from preprocessing import clean_html, tokenize\n",
    "from utils import load_dataset, train_and_eval\n",
    "\n",
    "sys.path.append('../../')\n",
    "from tokenize_ja import tokenizer"
   ]
  },
  {
   "cell_type": "code",
   "execution_count": 9,
   "id": "quick-beginning",
   "metadata": {},
   "outputs": [
    {
     "name": "stdout",
     "output_type": "stream",
     "text": [
      "The autoreload extension is already loaded. To reload it, use:\n",
      "  %reload_ext autoreload\n"
     ]
    }
   ],
   "source": [
    "# 外部モジュールを自動的にリロードする\n",
    "%load_ext autoreload\n",
    "%autoreload 2"
   ]
  },
  {
   "cell_type": "code",
   "execution_count": 3,
   "id": "democratic-chapter",
   "metadata": {},
   "outputs": [],
   "source": [
    "x, y = load_dataset('data/amazon_reviews_multilingual_JP_v1_00.tsv', n=5000)"
   ]
  },
  {
   "cell_type": "code",
   "execution_count": 4,
   "id": "acute-classification",
   "metadata": {},
   "outputs": [
    {
     "data": {
      "text/plain": [
       "array(['現在、地球温暖化の悪影響が、ここまで顕在化しているとは<br />想像していませんでした。特に、このまま海面温度が上昇を<br />続けると、早晩、南極・北極の氷が大規模に溶けることに<br />よって相当の範囲の陸地が海に没し、十億人単位での難民が<br />発生するという事実には、本当に衝撃を受けました。<br /><br />ある人が、「人間は地球にすくう癌細胞のようである。<br />増殖・破壊を続け、最終的には自らも寄生先の死によって<br />滅ぶ運命にある」と言っていたことを思い出しました。<br /><br />一方、主人公であるゴア氏が、聴衆が数十人〜数百人程度の<br />世界中の教室・会議場をまわって危機を訴えるという、地道<br />な「草の根」の活動にも大変感銘を受けました。個人的には、<br />ゴア氏には、ブッシュ氏との大統領戦における、「賢いが<br />傲慢で冷徹」というイメージが強かったのですが、およそ<br />そんなことはない（＝きっと、ブッシュ陣営のネガティブ・<br />キャンペーンの影響を愚かにも受けていたのでしょう）、<br />信念を持ち、実行力が伴った、特筆すべき政治家であること<br />も分かりました。<br /><br />温暖化の危機、ゴア氏ほかの活動家・学者の行動に対する<br />不明を恥じると共に、自らもCO2ゼロ化に向けて早速行動<br />したいと思いました。<br /><br />なお、当作品は、語られる事象のすべてが具体的かつ<br />客観的に科学的根拠に支えられており、ドキュメンタリー<br />としても秀逸だと思います。<br /><br />是非ご覧になってみて下さい。お奨めします。',\n",
       "       'このアクション映画ほど、男気を感じたものはあったのだろうか。<br />シンプル構成で時間をたっぷりと使った中身のあるアクション映画です。<br /><br />劇中、鉄斧を持った闇のサイコ集団（敵）が出てくるんですが<br />スタローンがこれでもかと、鉄拳制裁っ！するあたりはまさに圧巻の連続です。<br /><br />シンプルな映画ですが、家族で見ててハラハラドキドキします。<br /><br />また、この頃の映画って何か麻薬的な中毒性がありますよね。<br />何度も映画の世界に引きずり込まれてしまいます。<br /><br />最近のアクション映画に物足りなさを感じている方、ぜひこのスタローンアクションを見て<br />日々の疲れきった人生にスパイスを与えましょう。',\n",
       "       'このアプリを入れて以来、かなりお世話になりました。<br />私の場合、PCで作成したデータや画像を出先で「kindle fireHD」「androidタブレット（10.1インチ）」「スマホ」で閲覧、もしくはその逆・・・という使い方がメインでした。<br />作成は主にPC、簡単な情報を人に見せる場合はkindle fire HD、Excelデータなど細かい画面を多人数で閲覧する時はタブレット、自分で確認するだけの場合はスマホ。<br />TPOに合わせて最低限の荷物で済むのが、とても便利・・・でした。<br /><br />確かに、それなりの「技術」にはそれなりの「対価」を支払う必要があるのでしょう・・・<br />使用容量によって「無料」「有料」があるのは、データ保存するサーバーの関係上「当然」の事と思います。<br />しかし、いきなり<br />「この先、登録できる端末は2台まで！それ以上使いたければ月額費が必要です」<br /><br />Evernoteの知名度がうなぎ登りになり、関連書籍が多数発売され、関連商品が高額で販売され・・・<br />えぇ、嫌な予感はしていましたよ・・・無料版に何らかの制限（保存容量が更に減るとか）が付くかも？と。<br />まさか、無料版の登録台数を2台に制限とは・・・<br /><br />他のアプリを探すことにしました。<br />今まで有難う、Evernote。<br /><br />｛追記｝<br />残念ながら「dropbox」はkindle非対応なので、kindle・android・PC全てに対応している「box」を使う事に決めました。<br />Excelデータを閲覧する際、Evernoteよりも一手間掛かってしまうのですが・・・仕方ないです。<br /><br />｛追記２｝<br />先ほどEvernoteからメールが来ました。<br />プライバシーポリシー変更の変更・・・との事。<br />「不評だったのでEvernote社員がお客様のページを閲覧・監視する体制は辞めました」・・・っておいっ！！<br />確かにセキュリティの観点から「ある程度の監視」は管理者として必要なのかもしれないけど・・・<br />そこは「不評だったから辞める」って問題なのか？？<br />特にビジネスで使ってる人間にとって、クラウドの外部流出は「死活問題」だろ？<br />「ビジネスの場でEvernoteを便利に活用してください」的な紹介をさんざんしておいて・・・ておいっ！！ 確かにセキュリティの観点から「ある程度の監視」は管理者として必要なのかもしれないけど・・・ そこは「不評だったから辞める」って問題なのか？？ 特にビジネスで使ってる人間にとって、クラウドの外部流出は「死活問題」だろ？ 「ビジネスの場でEvernoteを便利に活用してください」的な紹介をさんざんしておいて・・・'],\n",
       "      dtype=object)"
      ]
     },
     "execution_count": 4,
     "metadata": {},
     "output_type": "execute_result"
    }
   ],
   "source": [
    "x[:3]"
   ]
  },
  {
   "cell_type": "code",
   "execution_count": 13,
   "id": "existing-isolation",
   "metadata": {},
   "outputs": [],
   "source": [
    "ginza_tokenizer_C = tokenizer.GinzaTokenizer(mode=\"C\")"
   ]
  },
  {
   "cell_type": "code",
   "execution_count": 14,
   "id": "radio-malaysia",
   "metadata": {},
   "outputs": [],
   "source": [
    "x = [' '.join(ginza_tokenizer_C.tokenize(text)) for text in x]"
   ]
  },
  {
   "cell_type": "code",
   "execution_count": 16,
   "id": "brief-balloon",
   "metadata": {},
   "outputs": [
    {
     "name": "stdout",
     "output_type": "stream",
     "text": [
      "TF-IDF\n",
      "0.8090\n"
     ]
    }
   ],
   "source": [
    "x_train, x_test, y_train, y_test = train_test_split(x, y,\n",
    "                                                        test_size=0.2,\n",
    "                                                        random_state=42)\n",
    "\n",
    "print('TF-IDF')\n",
    "vectorizer = TfidfVectorizer()\n",
    "train_and_eval(x_train, y_train, x_test, y_test, vectorizer)"
   ]
  },
  {
   "cell_type": "code",
   "execution_count": 22,
   "id": "suburban-pleasure",
   "metadata": {},
   "outputs": [
    {
     "name": "stdout",
     "output_type": "stream",
     "text": [
      "Bigram\n",
      "0.7520\n"
     ]
    }
   ],
   "source": [
    "print('Bigram')\n",
    "vectorizer = TfidfVectorizer(ngram_range=(2, 2))\n",
    "train_and_eval(x_train, y_train, x_test, y_test, vectorizer)"
   ]
  },
  {
   "cell_type": "markdown",
   "id": "suitable-orientation",
   "metadata": {},
   "source": [
    "# Okapi"
   ]
  },
  {
   "cell_type": "code",
   "execution_count": 5,
   "id": "informational-matrix",
   "metadata": {},
   "outputs": [],
   "source": [
    "# print('Tokenization')\n",
    "# x = [clean_html(text, strip=True) for text in x]\n",
    "# x = [' '.join(tokenize(text)) for text in x]\n",
    "# x_train, x_test, y_train, y_test = train_test_split(x, y,\n",
    "#                                                     test_size=0.2,\n",
    "#                                                     random_state=42)"
   ]
  },
  {
   "cell_type": "code",
   "execution_count": 6,
   "id": "related-boutique",
   "metadata": {},
   "outputs": [],
   "source": [
    "# texts = pd.DataFrame(x_train)[0].apply(lambda x: x.split())"
   ]
  },
  {
   "cell_type": "code",
   "execution_count": 12,
   "id": "plain-battle",
   "metadata": {},
   "outputs": [
    {
     "name": "stdout",
     "output_type": "stream",
     "text": [
      "Tokenization\n",
      "Okapi\n",
      "0.8370\n",
      "TF-IDF\n",
      "0.8510\n",
      "Bigram\n",
      "0.8545\n"
     ]
    }
   ],
   "source": [
    "! python train_bm25.py"
   ]
  },
  {
   "cell_type": "code",
   "execution_count": null,
   "id": "enhanced-cheese",
   "metadata": {},
   "outputs": [],
   "source": []
  },
  {
   "cell_type": "code",
   "execution_count": null,
   "id": "recorded-island",
   "metadata": {},
   "outputs": [],
   "source": []
  },
  {
   "cell_type": "code",
   "execution_count": null,
   "id": "documented-trust",
   "metadata": {},
   "outputs": [],
   "source": []
  }
 ],
 "metadata": {
  "kernelspec": {
   "display_name": "Python 3",
   "language": "python",
   "name": "python3"
  },
  "language_info": {
   "codemirror_mode": {
    "name": "ipython",
    "version": 3
   },
   "file_extension": ".py",
   "mimetype": "text/x-python",
   "name": "python",
   "nbconvert_exporter": "python",
   "pygments_lexer": "ipython3",
   "version": "3.8.6"
  }
 },
 "nbformat": 4,
 "nbformat_minor": 5
}
