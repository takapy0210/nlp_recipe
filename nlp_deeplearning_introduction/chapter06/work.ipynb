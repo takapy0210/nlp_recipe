{
 "cells": [
  {
   "cell_type": "code",
   "execution_count": 2,
   "id": "lucky-novel",
   "metadata": {},
   "outputs": [
    {
     "name": "stdout",
     "output_type": "stream",
     "text": [
      "[0.8175   0.83375  0.8225   0.8275   0.820625]\n",
      "Accuracy: 0.8244 (+/- 0.0114)\n",
      "Accuracy(test): 0.8440\n"
     ]
    }
   ],
   "source": [
    "! python cross_validation.py"
   ]
  },
  {
   "cell_type": "code",
   "execution_count": null,
   "id": "equipped-detective",
   "metadata": {},
   "outputs": [],
   "source": []
  }
 ],
 "metadata": {
  "kernelspec": {
   "display_name": "Python 3",
   "language": "python",
   "name": "python3"
  },
  "language_info": {
   "codemirror_mode": {
    "name": "ipython",
    "version": 3
   },
   "file_extension": ".py",
   "mimetype": "text/x-python",
   "name": "python",
   "nbconvert_exporter": "python",
   "pygments_lexer": "ipython3",
   "version": "3.8.6"
  }
 },
 "nbformat": 4,
 "nbformat_minor": 5
}
